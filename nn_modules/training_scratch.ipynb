{
 "cells": [
  {
   "cell_type": "code",
   "execution_count": 1,
   "metadata": {},
   "outputs": [
    {
     "name": "stderr",
     "output_type": "stream",
     "text": [
      "/ubc/ece/home/ra/other/manmeetp/miniconda3/lib/python3.8/site-packages/tqdm/auto.py:22: TqdmWarning: IProgress not found. Please update jupyter and ipywidgets. See https://ipywidgets.readthedocs.io/en/stable/user_install.html\n",
      "  from .autonotebook import tqdm as notebook_tqdm\n"
     ]
    }
   ],
   "source": [
    "from distutils.command.config import config\n",
    "import torch \n",
    "from torch import nn \n",
    "import torch.nn.functional as F \n",
    "from torch.utils.data import Dataset, DataLoader \n",
    "from dataloaders import CTDataset\n",
    "from config_file import config_file\n",
    "from models.unet_final import UNet\n",
    "import time\n",
    "import tqdm"
   ]
  },
  {
   "cell_type": "code",
   "execution_count": 2,
   "metadata": {},
   "outputs": [
    {
     "name": "stdout",
     "output_type": "stream",
     "text": [
      "True\n",
      "1.12.0\n",
      "cuda:0\n"
     ]
    }
   ],
   "source": [
    "#making sure we're working using cude and not cpu\n",
    "print(torch.cuda.is_available())\n",
    "print(torch.__version__)\n",
    "device = torch.device(\"cuda:0\" if torch.cuda.is_available() else \"cpu\")\n",
    "print(device)"
   ]
  },
  {
   "cell_type": "code",
   "execution_count": 3,
   "metadata": {},
   "outputs": [],
   "source": [
    "#defining our loss function (combined loss as Arafat described in the email)\n",
    "def dice_loss(y_pred, y_true, smooth = 1):\n",
    "\n",
    "    #difference between flatten vs view??\n",
    "\n",
    "    y_pred = y_pred.view(-1)\n",
    "    print(y_pred)\n",
    "    y_true = y_true.view(-1)\n",
    "    print(y_true)\n",
    "    smooth = 1\n",
    "    intersection = (y_true * y_pred).sum()\n",
    "    dice = (2 * intersection  + smooth)/(y_true.sum() + y_pred.sum() + smooth)\n",
    "\n",
    "    return 1 - dice\n",
    "    \n",
    "def combo_loss(y_pred, y_true):\n",
    "    return nn.CrossEntropyLoss(y_pred, y_true) + dice_loss(y_pred, y_true)"
   ]
  },
  {
   "cell_type": "code",
   "execution_count": 4,
   "metadata": {},
   "outputs": [],
   "source": [
    "#listing the directories \n",
    "img_dir = \"/ubc/ece/home/ra/other/manmeetp/CTProject/training_set/128_image_arrays\"\n",
    "annotations = \"/ubc/ece/home/ra/other/manmeetp/CTProject/training_set/128_mask_arrays\"\n",
    "trainset = CTDataset(annotations_folder=annotations, img_dir=img_dir)\n",
    "train_loader = DataLoader(trainset, batch_size = config_file.batch_size, shuffle = True)\n",
    "\n",
    "#channels is just 1 because grayscale image and classes is 2 since its either affected or not \n",
    "model = UNet(in_channels=1, classes=1)\n",
    "model.to(device)\n",
    "loss = dice_loss"
   ]
  },
  {
   "cell_type": "code",
   "execution_count": 5,
   "metadata": {},
   "outputs": [],
   "source": [
    "optimizer = torch.optim.Adam(model.parameters(), config_file.learning_rate)\n",
    "lambda1 = lambda epoch: 0.65 ** epoch"
   ]
  },
  {
   "cell_type": "code",
   "execution_count": 6,
   "metadata": {},
   "outputs": [],
   "source": [
    "#ok before I start pulling my hair debugging this, let's print the models summary\n",
    "# print(model)"
   ]
  },
  {
   "cell_type": "code",
   "execution_count": 8,
   "metadata": {},
   "outputs": [
    {
     "name": "stdout",
     "output_type": "stream",
     "text": [
      "[INFO] training the network...\n"
     ]
    },
    {
     "ename": "KeyboardInterrupt",
     "evalue": "",
     "output_type": "error",
     "traceback": [
      "\u001b[0;31m---------------------------------------------------------------------------\u001b[0m",
      "\u001b[0;31mKeyboardInterrupt\u001b[0m                         Traceback (most recent call last)",
      "\u001b[1;32m/ubc/ece/home/ra/other/manmeetp/CTProject/nn_modules/training_scratch.ipynb Cell 7\u001b[0m in \u001b[0;36m<cell line: 5>\u001b[0;34m()\u001b[0m\n\u001b[1;32m     <a href='vscode-notebook-cell://ssh-remote%2Brosalind.ece.ubc.ca/ubc/ece/home/ra/other/manmeetp/CTProject/nn_modules/training_scratch.ipynb#ch0000006vscode-remote?line=16'>17</a>\u001b[0m \u001b[39m# perform a forward pass and calculate the training loss\u001b[39;00m\n\u001b[1;32m     <a href='vscode-notebook-cell://ssh-remote%2Brosalind.ece.ubc.ca/ubc/ece/home/ra/other/manmeetp/CTProject/nn_modules/training_scratch.ipynb#ch0000006vscode-remote?line=17'>18</a>\u001b[0m pred \u001b[39m=\u001b[39m model(x)\n\u001b[0;32m---> <a href='vscode-notebook-cell://ssh-remote%2Brosalind.ece.ubc.ca/ubc/ece/home/ra/other/manmeetp/CTProject/nn_modules/training_scratch.ipynb#ch0000006vscode-remote?line=18'>19</a>\u001b[0m criterion \u001b[39m=\u001b[39m loss(pred, y)\n\u001b[1;32m     <a href='vscode-notebook-cell://ssh-remote%2Brosalind.ece.ubc.ca/ubc/ece/home/ra/other/manmeetp/CTProject/nn_modules/training_scratch.ipynb#ch0000006vscode-remote?line=19'>20</a>\u001b[0m \u001b[39m# first, zero out any previously accumulated gradients, then\u001b[39;00m\n\u001b[1;32m     <a href='vscode-notebook-cell://ssh-remote%2Brosalind.ece.ubc.ca/ubc/ece/home/ra/other/manmeetp/CTProject/nn_modules/training_scratch.ipynb#ch0000006vscode-remote?line=20'>21</a>\u001b[0m \u001b[39m# perform backpropagation, and then update model parameters\u001b[39;00m\n\u001b[1;32m     <a href='vscode-notebook-cell://ssh-remote%2Brosalind.ece.ubc.ca/ubc/ece/home/ra/other/manmeetp/CTProject/nn_modules/training_scratch.ipynb#ch0000006vscode-remote?line=21'>22</a>\u001b[0m optimizer\u001b[39m.\u001b[39mzero_grad()\n",
      "\u001b[1;32m/ubc/ece/home/ra/other/manmeetp/CTProject/nn_modules/training_scratch.ipynb Cell 7\u001b[0m in \u001b[0;36mdice_loss\u001b[0;34m(y_pred, y_true, smooth)\u001b[0m\n\u001b[1;32m      <a href='vscode-notebook-cell://ssh-remote%2Brosalind.ece.ubc.ca/ubc/ece/home/ra/other/manmeetp/CTProject/nn_modules/training_scratch.ipynb#ch0000006vscode-remote?line=1'>2</a>\u001b[0m \u001b[39mdef\u001b[39;00m \u001b[39mdice_loss\u001b[39m(y_pred, y_true, smooth \u001b[39m=\u001b[39m \u001b[39m1\u001b[39m):\n\u001b[1;32m      <a href='vscode-notebook-cell://ssh-remote%2Brosalind.ece.ubc.ca/ubc/ece/home/ra/other/manmeetp/CTProject/nn_modules/training_scratch.ipynb#ch0000006vscode-remote?line=2'>3</a>\u001b[0m \n\u001b[1;32m      <a href='vscode-notebook-cell://ssh-remote%2Brosalind.ece.ubc.ca/ubc/ece/home/ra/other/manmeetp/CTProject/nn_modules/training_scratch.ipynb#ch0000006vscode-remote?line=3'>4</a>\u001b[0m     \u001b[39m#difference between flatten vs view??\u001b[39;00m\n\u001b[1;32m      <a href='vscode-notebook-cell://ssh-remote%2Brosalind.ece.ubc.ca/ubc/ece/home/ra/other/manmeetp/CTProject/nn_modules/training_scratch.ipynb#ch0000006vscode-remote?line=5'>6</a>\u001b[0m     y_pred \u001b[39m=\u001b[39m y_pred\u001b[39m.\u001b[39mview(\u001b[39m-\u001b[39m\u001b[39m1\u001b[39m)\n\u001b[0;32m----> <a href='vscode-notebook-cell://ssh-remote%2Brosalind.ece.ubc.ca/ubc/ece/home/ra/other/manmeetp/CTProject/nn_modules/training_scratch.ipynb#ch0000006vscode-remote?line=6'>7</a>\u001b[0m     \u001b[39mprint\u001b[39;49m(y_pred)\n\u001b[1;32m      <a href='vscode-notebook-cell://ssh-remote%2Brosalind.ece.ubc.ca/ubc/ece/home/ra/other/manmeetp/CTProject/nn_modules/training_scratch.ipynb#ch0000006vscode-remote?line=7'>8</a>\u001b[0m     y_true \u001b[39m=\u001b[39m y_true\u001b[39m.\u001b[39mview(\u001b[39m-\u001b[39m\u001b[39m1\u001b[39m)\n\u001b[1;32m      <a href='vscode-notebook-cell://ssh-remote%2Brosalind.ece.ubc.ca/ubc/ece/home/ra/other/manmeetp/CTProject/nn_modules/training_scratch.ipynb#ch0000006vscode-remote?line=8'>9</a>\u001b[0m     \u001b[39mprint\u001b[39m(y_true)\n",
      "File \u001b[0;32m~/miniconda3/lib/python3.8/site-packages/torch/_tensor.py:338\u001b[0m, in \u001b[0;36mTensor.__repr__\u001b[0;34m(self, tensor_contents)\u001b[0m\n\u001b[1;32m    335\u001b[0m     \u001b[39mreturn\u001b[39;00m handle_torch_function(Tensor\u001b[39m.\u001b[39m\u001b[39m__repr__\u001b[39m, (\u001b[39mself\u001b[39m,), \u001b[39mself\u001b[39m,\n\u001b[1;32m    336\u001b[0m                                  tensor_contents\u001b[39m=\u001b[39mtensor_contents)\n\u001b[1;32m    337\u001b[0m \u001b[39m# All strings are unicode in Python 3.\u001b[39;00m\n\u001b[0;32m--> 338\u001b[0m \u001b[39mreturn\u001b[39;00m torch\u001b[39m.\u001b[39;49m_tensor_str\u001b[39m.\u001b[39;49m_str(\u001b[39mself\u001b[39;49m, tensor_contents\u001b[39m=\u001b[39;49mtensor_contents)\n",
      "File \u001b[0;32m~/miniconda3/lib/python3.8/site-packages/torch/_tensor_str.py:481\u001b[0m, in \u001b[0;36m_str\u001b[0;34m(self, tensor_contents)\u001b[0m\n\u001b[1;32m    479\u001b[0m \u001b[39mdef\u001b[39;00m \u001b[39m_str\u001b[39m(\u001b[39mself\u001b[39m, \u001b[39m*\u001b[39m, tensor_contents\u001b[39m=\u001b[39m\u001b[39mNone\u001b[39;00m):\n\u001b[1;32m    480\u001b[0m     \u001b[39mwith\u001b[39;00m torch\u001b[39m.\u001b[39mno_grad():\n\u001b[0;32m--> 481\u001b[0m         \u001b[39mreturn\u001b[39;00m _str_intern(\u001b[39mself\u001b[39;49m, tensor_contents\u001b[39m=\u001b[39;49mtensor_contents)\n",
      "File \u001b[0;32m~/miniconda3/lib/python3.8/site-packages/torch/_tensor_str.py:447\u001b[0m, in \u001b[0;36m_str_intern\u001b[0;34m(inp, tensor_contents)\u001b[0m\n\u001b[1;32m    445\u001b[0m                     tensor_str \u001b[39m=\u001b[39m _tensor_str(\u001b[39mself\u001b[39m\u001b[39m.\u001b[39mto_dense(), indent)\n\u001b[1;32m    446\u001b[0m                 \u001b[39melse\u001b[39;00m:\n\u001b[0;32m--> 447\u001b[0m                     tensor_str \u001b[39m=\u001b[39m _tensor_str(\u001b[39mself\u001b[39;49m, indent)\n\u001b[1;32m    449\u001b[0m \u001b[39mif\u001b[39;00m \u001b[39mself\u001b[39m\u001b[39m.\u001b[39mlayout \u001b[39m!=\u001b[39m torch\u001b[39m.\u001b[39mstrided:\n\u001b[1;32m    450\u001b[0m     suffixes\u001b[39m.\u001b[39mappend(\u001b[39m'\u001b[39m\u001b[39mlayout=\u001b[39m\u001b[39m'\u001b[39m \u001b[39m+\u001b[39m \u001b[39mstr\u001b[39m(\u001b[39mself\u001b[39m\u001b[39m.\u001b[39mlayout))\n",
      "File \u001b[0;32m~/miniconda3/lib/python3.8/site-packages/torch/_tensor_str.py:270\u001b[0m, in \u001b[0;36m_tensor_str\u001b[0;34m(self, indent)\u001b[0m\n\u001b[1;32m    268\u001b[0m     \u001b[39mreturn\u001b[39;00m _tensor_str_with_formatter(\u001b[39mself\u001b[39m, indent, summarize, real_formatter, imag_formatter)\n\u001b[1;32m    269\u001b[0m \u001b[39melse\u001b[39;00m:\n\u001b[0;32m--> 270\u001b[0m     formatter \u001b[39m=\u001b[39m _Formatter(get_summarized_data(\u001b[39mself\u001b[39;49m) \u001b[39mif\u001b[39;49;00m summarize \u001b[39melse\u001b[39;49;00m \u001b[39mself\u001b[39;49m)\n\u001b[1;32m    271\u001b[0m     \u001b[39mreturn\u001b[39;00m _tensor_str_with_formatter(\u001b[39mself\u001b[39m, indent, summarize, formatter)\n",
      "File \u001b[0;32m~/miniconda3/lib/python3.8/site-packages/torch/_tensor_str.py:103\u001b[0m, in \u001b[0;36m_Formatter.__init__\u001b[0;34m(self, tensor)\u001b[0m\n\u001b[1;32m    100\u001b[0m         \u001b[39mself\u001b[39m\u001b[39m.\u001b[39mmax_width \u001b[39m=\u001b[39m \u001b[39mmax\u001b[39m(\u001b[39mself\u001b[39m\u001b[39m.\u001b[39mmax_width, \u001b[39mlen\u001b[39m(value_str))\n\u001b[1;32m    102\u001b[0m \u001b[39melse\u001b[39;00m:\n\u001b[0;32m--> 103\u001b[0m     nonzero_finite_vals \u001b[39m=\u001b[39m torch\u001b[39m.\u001b[39;49mmasked_select(tensor_view, torch\u001b[39m.\u001b[39;49misfinite(tensor_view) \u001b[39m&\u001b[39;49m tensor_view\u001b[39m.\u001b[39;49mne(\u001b[39m0\u001b[39;49m))\n\u001b[1;32m    105\u001b[0m     \u001b[39mif\u001b[39;00m nonzero_finite_vals\u001b[39m.\u001b[39mnumel() \u001b[39m==\u001b[39m \u001b[39m0\u001b[39m:\n\u001b[1;32m    106\u001b[0m         \u001b[39m# no valid number, do nothing\u001b[39;00m\n\u001b[1;32m    107\u001b[0m         \u001b[39mreturn\u001b[39;00m\n",
      "\u001b[0;31mKeyboardInterrupt\u001b[0m: "
     ]
    }
   ],
   "source": [
    "#training loop \n",
    "print(\"[INFO] training the network...\")\n",
    "startTime = time.time()\n",
    "loss_over_epochs = []\n",
    "for e in range(config_file.epochs):\n",
    "\t# set the model in training mode\n",
    "\tmodel.train()\n",
    "\t# initialize the total training and validation loss\n",
    "\ttotalTrainLoss = 0\n",
    "\ttotalTestLoss = 0\n",
    "\t# loop over the training set\n",
    "\tfor (i, (x, y)) in enumerate(train_loader):\n",
    "\t\t# send the input to the device\n",
    "\t\t(x, y) = (x.to(device), y.to(device))\n",
    "\t\tx = x.float()\n",
    "\t\ty = y.float()\n",
    "\t\t# perform a forward pass and calculate the training loss\n",
    "\t\tpred = model(x)\n",
    "\t\tcriterion = loss(pred, y)\n",
    "\t\t# first, zero out any previously accumulated gradients, then\n",
    "\t\t# perform backpropagation, and then update model parameters\n",
    "\t\toptimizer.zero_grad()\n",
    "\t\tcriterion.backward()\n",
    "\t\toptimizer.step()\n",
    "\t\t# add the loss to the total training loss so far\n",
    "\t\tprint(\"epoch number \" + str(e) + \" current loss \" + str(criterion.item()))\n",
    "\t\ttotalTrainLoss += criterion\n",
    "\t\n",
    "\tavgTrainLoss = totalTrainLoss / config_file.epochs\n",
    "\tloss_over_epochs.append(avgTrainLoss)\n",
    "\tprint(\"average Training loss: \" + str(avgTrainLoss))\n",
    "\t\n",
    "endTime = time.time()\n",
    "print(\"[INFO] total time taken to train the model: {:.2f}s\".format(\n",
    "\tendTime - startTime))"
   ]
  },
  {
   "cell_type": "code",
   "execution_count": null,
   "metadata": {},
   "outputs": [],
   "source": [
    "import matplotlib.pyplot as plt \n",
    "\n",
    "plt.plot(range(config_file.epochs), loss_over_epochs)"
   ]
  },
  {
   "cell_type": "code",
   "execution_count": null,
   "metadata": {},
   "outputs": [],
   "source": [
    "#for evaluation\n",
    "# switch off autograd\n",
    "\t# with torch.no_grad():\n",
    "\t# \t# set the model in evaluation mode\n",
    "\t# \tunet.eval()\n",
    "\t# \t# loop over the validation set\n",
    "\t# \tfor (x, y) in testLoader:\n",
    "\t# \t\t# send the input to the device\n",
    "\t# \t\t(x, y) = (x.to(config.DEVICE), y.to(config.DEVICE))\n",
    "\t# \t\t# make the predictions and calculate the validation loss\n",
    "\t# \t\tpred = unet(x)\n",
    "\t# \t\ttotalTestLoss += lossFunc(pred, y)\n",
    "\t# calculate the average training and validation loss"
   ]
  }
 ],
 "metadata": {
  "kernelspec": {
   "display_name": "Python 3.8.12 ('base')",
   "language": "python",
   "name": "python3"
  },
  "language_info": {
   "codemirror_mode": {
    "name": "ipython",
    "version": 3
   },
   "file_extension": ".py",
   "mimetype": "text/x-python",
   "name": "python",
   "nbconvert_exporter": "python",
   "pygments_lexer": "ipython3",
   "version": "3.8.12"
  },
  "orig_nbformat": 4,
  "vscode": {
   "interpreter": {
    "hash": "5a3b8f5430dcba285e05c791357a5662af4e340364058ab0fc06e8662d8ba7a2"
   }
  }
 },
 "nbformat": 4,
 "nbformat_minor": 2
}
