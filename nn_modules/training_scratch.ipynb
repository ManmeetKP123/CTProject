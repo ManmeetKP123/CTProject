{
 "cells": [
  {
   "cell_type": "code",
   "execution_count": 1,
   "metadata": {},
   "outputs": [
    {
     "name": "stderr",
     "output_type": "stream",
     "text": [
      "/ubc/ece/home/ra/other/manmeetp/miniconda3/lib/python3.8/site-packages/tqdm/auto.py:22: TqdmWarning: IProgress not found. Please update jupyter and ipywidgets. See https://ipywidgets.readthedocs.io/en/stable/user_install.html\n",
      "  from .autonotebook import tqdm as notebook_tqdm\n"
     ]
    }
   ],
   "source": [
    "from distutils.command.config import config\n",
    "import torch \n",
    "from torch import nn \n",
    "import torch.nn.functional as F \n",
    "from torch.utils.data import Dataset, DataLoader \n",
    "from dataloaders import CTDataset\n",
    "from config_file import config_file\n",
    "from models.unet_final import UNet\n",
    "import time\n",
    "import tqdm"
   ]
  },
  {
   "cell_type": "code",
   "execution_count": 2,
   "metadata": {},
   "outputs": [
    {
     "name": "stdout",
     "output_type": "stream",
     "text": [
      "True\n",
      "1.12.0\n",
      "cuda:0\n"
     ]
    }
   ],
   "source": [
    "#making sure we're working using cude and not cpu\n",
    "print(torch.cuda.is_available())\n",
    "print(torch.__version__)\n",
    "device = torch.device(\"cuda:0\" if torch.cuda.is_available() else \"cpu\")\n",
    "print(device)"
   ]
  },
  {
   "cell_type": "code",
   "execution_count": 3,
   "metadata": {},
   "outputs": [],
   "source": [
    "#defining our loss function (combined loss as Arafat described in the email)\n",
    "def dice_loss(y_pred, y_true, smooth = 1):\n",
    "\n",
    "    #difference between flatten vs view??\n",
    "\n",
    "    y_pred = y_pred.view(-1)\n",
    "    y_true = y_true.view(-1)\n",
    "    smooth = 1\n",
    "    intersection = (y_true * y_pred).sum()\n",
    "    dice = (2 * intersection  + smooth)/(y_true.sum() + y_pred.sum() + smooth)\n",
    "\n",
    "    return 1 - dice\n",
    "    \n",
    "def combo_loss(y_pred, y_true):\n",
    "    return nn.CrossEntropyLoss(y_pred, y_true) + dice_loss(y_pred, y_true)"
   ]
  },
  {
   "cell_type": "code",
   "execution_count": 12,
   "metadata": {},
   "outputs": [],
   "source": [
    "#listing the directories \n",
    "img_dir = \"/ubc/ece/home/ra/other/manmeetp/CTProject/training_set/128_image_arrays\"\n",
    "annotations = \"/ubc/ece/home/ra/other/manmeetp/CTProject/training_set/128_mask_arrays\"\n",
    "trainset = CTDataset(annotations_folder=annotations, img_dir=img_dir)\n",
    "train_loader = DataLoader(trainset, batch_size = config_file.batch_size, shuffle = True)\n",
    "\n",
    "#channels is just 1 because grayscale image and classes is 2 since its either affected or not \n",
    "model = UNet(in_channels=1, classes=1)\n",
    "model.to(device)\n",
    "loss = dice_loss"
   ]
  },
  {
   "cell_type": "code",
   "execution_count": 13,
   "metadata": {},
   "outputs": [],
   "source": [
    "optimizer = torch.optim.Adam(model.parameters(), config_file.learning_rate)\n",
    "lambda1 = lambda epoch: 0.65 ** epoch"
   ]
  },
  {
   "cell_type": "code",
   "execution_count": 14,
   "metadata": {},
   "outputs": [],
   "source": [
    "#ok before I start pulling my hair debugging this, let's print the models summary\n",
    "# print(model)"
   ]
  },
  {
   "cell_type": "code",
   "execution_count": 15,
   "metadata": {},
   "outputs": [
    {
     "name": "stdout",
     "output_type": "stream",
     "text": [
      "[INFO] training the network...\n"
     ]
    },
    {
     "ename": "RuntimeError",
     "evalue": "Boolean value of Tensor with more than one value is ambiguous",
     "output_type": "error",
     "traceback": [
      "\u001b[0;31m---------------------------------------------------------------------------\u001b[0m",
      "\u001b[0;31mRuntimeError\u001b[0m                              Traceback (most recent call last)",
      "\u001b[1;32m/ubc/ece/home/ra/other/manmeetp/CTProject/nn_modules/training_scratch.ipynb Cell 7\u001b[0m in \u001b[0;36m<cell line: 5>\u001b[0;34m()\u001b[0m\n\u001b[1;32m     <a href='vscode-notebook-cell://ssh-remote%2Brosalind.ece.ubc.ca/ubc/ece/home/ra/other/manmeetp/CTProject/nn_modules/training_scratch.ipynb#ch0000006vscode-remote?line=17'>18</a>\u001b[0m \u001b[39m# perform a forward pass and calculate the training loss\u001b[39;00m\n\u001b[1;32m     <a href='vscode-notebook-cell://ssh-remote%2Brosalind.ece.ubc.ca/ubc/ece/home/ra/other/manmeetp/CTProject/nn_modules/training_scratch.ipynb#ch0000006vscode-remote?line=18'>19</a>\u001b[0m pred \u001b[39m=\u001b[39m model(x)\n\u001b[0;32m---> <a href='vscode-notebook-cell://ssh-remote%2Brosalind.ece.ubc.ca/ubc/ece/home/ra/other/manmeetp/CTProject/nn_modules/training_scratch.ipynb#ch0000006vscode-remote?line=19'>20</a>\u001b[0m criterion \u001b[39m=\u001b[39m loss(pred, y)\n\u001b[1;32m     <a href='vscode-notebook-cell://ssh-remote%2Brosalind.ece.ubc.ca/ubc/ece/home/ra/other/manmeetp/CTProject/nn_modules/training_scratch.ipynb#ch0000006vscode-remote?line=20'>21</a>\u001b[0m \u001b[39m# first, zero out any previously accumulated gradients, then\u001b[39;00m\n\u001b[1;32m     <a href='vscode-notebook-cell://ssh-remote%2Brosalind.ece.ubc.ca/ubc/ece/home/ra/other/manmeetp/CTProject/nn_modules/training_scratch.ipynb#ch0000006vscode-remote?line=21'>22</a>\u001b[0m \u001b[39m# perform backpropagation, and then update model parameters\u001b[39;00m\n\u001b[1;32m     <a href='vscode-notebook-cell://ssh-remote%2Brosalind.ece.ubc.ca/ubc/ece/home/ra/other/manmeetp/CTProject/nn_modules/training_scratch.ipynb#ch0000006vscode-remote?line=22'>23</a>\u001b[0m optimizer\u001b[39m.\u001b[39mzero_grad()\n",
      "\u001b[1;32m/ubc/ece/home/ra/other/manmeetp/CTProject/nn_modules/training_scratch.ipynb Cell 7\u001b[0m in \u001b[0;36mcombo_loss\u001b[0;34m(y_pred, y_true)\u001b[0m\n\u001b[1;32m     <a href='vscode-notebook-cell://ssh-remote%2Brosalind.ece.ubc.ca/ubc/ece/home/ra/other/manmeetp/CTProject/nn_modules/training_scratch.ipynb#ch0000006vscode-remote?line=13'>14</a>\u001b[0m \u001b[39mdef\u001b[39;00m \u001b[39mcombo_loss\u001b[39m(y_pred, y_true):\n\u001b[0;32m---> <a href='vscode-notebook-cell://ssh-remote%2Brosalind.ece.ubc.ca/ubc/ece/home/ra/other/manmeetp/CTProject/nn_modules/training_scratch.ipynb#ch0000006vscode-remote?line=14'>15</a>\u001b[0m     \u001b[39mreturn\u001b[39;00m nn\u001b[39m.\u001b[39;49mCrossEntropyLoss(y_pred, y_true) \u001b[39m+\u001b[39m dice_loss(y_pred, y_true)\n",
      "File \u001b[0;32m~/miniconda3/lib/python3.8/site-packages/torch/nn/modules/loss.py:1159\u001b[0m, in \u001b[0;36mCrossEntropyLoss.__init__\u001b[0;34m(self, weight, size_average, ignore_index, reduce, reduction, label_smoothing)\u001b[0m\n\u001b[1;32m   1157\u001b[0m \u001b[39mdef\u001b[39;00m \u001b[39m__init__\u001b[39m(\u001b[39mself\u001b[39m, weight: Optional[Tensor] \u001b[39m=\u001b[39m \u001b[39mNone\u001b[39;00m, size_average\u001b[39m=\u001b[39m\u001b[39mNone\u001b[39;00m, ignore_index: \u001b[39mint\u001b[39m \u001b[39m=\u001b[39m \u001b[39m-\u001b[39m\u001b[39m100\u001b[39m,\n\u001b[1;32m   1158\u001b[0m              reduce\u001b[39m=\u001b[39m\u001b[39mNone\u001b[39;00m, reduction: \u001b[39mstr\u001b[39m \u001b[39m=\u001b[39m \u001b[39m'\u001b[39m\u001b[39mmean\u001b[39m\u001b[39m'\u001b[39m, label_smoothing: \u001b[39mfloat\u001b[39m \u001b[39m=\u001b[39m \u001b[39m0.0\u001b[39m) \u001b[39m-\u001b[39m\u001b[39m>\u001b[39m \u001b[39mNone\u001b[39;00m:\n\u001b[0;32m-> 1159\u001b[0m     \u001b[39msuper\u001b[39;49m(CrossEntropyLoss, \u001b[39mself\u001b[39;49m)\u001b[39m.\u001b[39;49m\u001b[39m__init__\u001b[39;49m(weight, size_average, reduce, reduction)\n\u001b[1;32m   1160\u001b[0m     \u001b[39mself\u001b[39m\u001b[39m.\u001b[39mignore_index \u001b[39m=\u001b[39m ignore_index\n\u001b[1;32m   1161\u001b[0m     \u001b[39mself\u001b[39m\u001b[39m.\u001b[39mlabel_smoothing \u001b[39m=\u001b[39m label_smoothing\n",
      "File \u001b[0;32m~/miniconda3/lib/python3.8/site-packages/torch/nn/modules/loss.py:25\u001b[0m, in \u001b[0;36m_WeightedLoss.__init__\u001b[0;34m(self, weight, size_average, reduce, reduction)\u001b[0m\n\u001b[1;32m     24\u001b[0m \u001b[39mdef\u001b[39;00m \u001b[39m__init__\u001b[39m(\u001b[39mself\u001b[39m, weight: Optional[Tensor] \u001b[39m=\u001b[39m \u001b[39mNone\u001b[39;00m, size_average\u001b[39m=\u001b[39m\u001b[39mNone\u001b[39;00m, reduce\u001b[39m=\u001b[39m\u001b[39mNone\u001b[39;00m, reduction: \u001b[39mstr\u001b[39m \u001b[39m=\u001b[39m \u001b[39m'\u001b[39m\u001b[39mmean\u001b[39m\u001b[39m'\u001b[39m) \u001b[39m-\u001b[39m\u001b[39m>\u001b[39m \u001b[39mNone\u001b[39;00m:\n\u001b[0;32m---> 25\u001b[0m     \u001b[39msuper\u001b[39;49m(_WeightedLoss, \u001b[39mself\u001b[39;49m)\u001b[39m.\u001b[39;49m\u001b[39m__init__\u001b[39;49m(size_average, reduce, reduction)\n\u001b[1;32m     26\u001b[0m     \u001b[39mself\u001b[39m\u001b[39m.\u001b[39mregister_buffer(\u001b[39m'\u001b[39m\u001b[39mweight\u001b[39m\u001b[39m'\u001b[39m, weight)\n\u001b[1;32m     27\u001b[0m     \u001b[39mself\u001b[39m\u001b[39m.\u001b[39mweight: Optional[Tensor]\n",
      "File \u001b[0;32m~/miniconda3/lib/python3.8/site-packages/torch/nn/modules/loss.py:18\u001b[0m, in \u001b[0;36m_Loss.__init__\u001b[0;34m(self, size_average, reduce, reduction)\u001b[0m\n\u001b[1;32m     16\u001b[0m \u001b[39msuper\u001b[39m(_Loss, \u001b[39mself\u001b[39m)\u001b[39m.\u001b[39m\u001b[39m__init__\u001b[39m()\n\u001b[1;32m     17\u001b[0m \u001b[39mif\u001b[39;00m size_average \u001b[39mis\u001b[39;00m \u001b[39mnot\u001b[39;00m \u001b[39mNone\u001b[39;00m \u001b[39mor\u001b[39;00m reduce \u001b[39mis\u001b[39;00m \u001b[39mnot\u001b[39;00m \u001b[39mNone\u001b[39;00m:\n\u001b[0;32m---> 18\u001b[0m     \u001b[39mself\u001b[39m\u001b[39m.\u001b[39mreduction: \u001b[39mstr\u001b[39m \u001b[39m=\u001b[39m _Reduction\u001b[39m.\u001b[39;49mlegacy_get_string(size_average, reduce)\n\u001b[1;32m     19\u001b[0m \u001b[39melse\u001b[39;00m:\n\u001b[1;32m     20\u001b[0m     \u001b[39mself\u001b[39m\u001b[39m.\u001b[39mreduction \u001b[39m=\u001b[39m reduction\n",
      "File \u001b[0;32m~/miniconda3/lib/python3.8/site-packages/torch/nn/_reduction.py:35\u001b[0m, in \u001b[0;36mlegacy_get_string\u001b[0;34m(size_average, reduce, emit_warning)\u001b[0m\n\u001b[1;32m     32\u001b[0m \u001b[39mif\u001b[39;00m reduce \u001b[39mis\u001b[39;00m \u001b[39mNone\u001b[39;00m:\n\u001b[1;32m     33\u001b[0m     reduce \u001b[39m=\u001b[39m \u001b[39mTrue\u001b[39;00m\n\u001b[0;32m---> 35\u001b[0m \u001b[39mif\u001b[39;00m size_average \u001b[39mand\u001b[39;00m reduce:\n\u001b[1;32m     36\u001b[0m     ret \u001b[39m=\u001b[39m \u001b[39m'\u001b[39m\u001b[39mmean\u001b[39m\u001b[39m'\u001b[39m\n\u001b[1;32m     37\u001b[0m \u001b[39melif\u001b[39;00m reduce:\n",
      "\u001b[0;31mRuntimeError\u001b[0m: Boolean value of Tensor with more than one value is ambiguous"
     ]
    }
   ],
   "source": [
    "#training loop \n",
    "print(\"[INFO] training the network...\")\n",
    "startTime = time.time()\n",
    "loss_over_epochs = []\n",
    "for e in range(config_file.epochs):\n",
    "\t# set the model in training mode\n",
    "\tmodel.train()\n",
    "\t# initialize the total training and validation loss\n",
    "\ttotalTrainLoss = 0\n",
    "\ttotalTestLoss = 0\n",
    "\t# loop over the training set\n",
    "\titeration = 0\n",
    "\tfor (i, (x, y)) in enumerate(train_loader):\n",
    "\t\t# send the input to the device\n",
    "\t\t(x, y) = (x.to(device), y.to(device))\n",
    "\t\tx = x.float()\n",
    "\t\ty = y.float()\n",
    "\t\t# perform a forward pass and calculate the training loss\n",
    "\t\tpred = model(x)\n",
    "\t\tcriterion = loss(pred, y)\n",
    "\t\t# first, zero out any previously accumulated gradients, then\n",
    "\t\t# perform backpropagation, and then update model parameters\n",
    "\t\toptimizer.zero_grad()\n",
    "\t\tcriterion.backward()\n",
    "\t\toptimizer.step()\n",
    "\t\t# add the loss to the total training loss so far\n",
    "\t\tprint(\"epoch number \" + str(e) + \" current loss \" + str(criterion.item()))\n",
    "\t\ttotalTrainLoss += criterion.item()\n",
    "\t\titeration += 1\n",
    "\t\n",
    "\tavgTrainLoss = totalTrainLoss / iteration\n",
    "\tloss_over_epochs.append(avgTrainLoss)\n",
    "\tprint(\"average Training loss: \" + str(avgTrainLoss))\n",
    "\t\n",
    "endTime = time.time()\n",
    "print(\"[INFO] total time taken to train the model: {:.2f}s\".format(\n",
    "\tendTime - startTime))"
   ]
  },
  {
   "cell_type": "code",
   "execution_count": null,
   "metadata": {},
   "outputs": [],
   "source": [
    "#for evaluation\n",
    "# switch off autograd\n",
    "\t# with torch.no_grad():\n",
    "\t# \t# set the model in evaluation mode\n",
    "\t# \tunet.eval()\n",
    "\t# \t# loop over the validation set\n",
    "\t# \tfor (x, y) in testLoader:\n",
    "\t# \t\t# send the input to the device\n",
    "\t# \t\t(x, y) = (x.to(config.DEVICE), y.to(config.DEVICE))\n",
    "\t# \t\t# make the predictions and calculate the validation loss\n",
    "\t# \t\tpred = unet(x)\n",
    "\t# \t\ttotalTestLoss += lossFunc(pred, y)\n",
    "\t# calculate the average training and validation loss"
   ]
  }
 ],
 "metadata": {
  "kernelspec": {
   "display_name": "Python 3.8.12 ('base')",
   "language": "python",
   "name": "python3"
  },
  "language_info": {
   "codemirror_mode": {
    "name": "ipython",
    "version": 3
   },
   "file_extension": ".py",
   "mimetype": "text/x-python",
   "name": "python",
   "nbconvert_exporter": "python",
   "pygments_lexer": "ipython3",
   "version": "3.8.12"
  },
  "orig_nbformat": 4,
  "vscode": {
   "interpreter": {
    "hash": "5a3b8f5430dcba285e05c791357a5662af4e340364058ab0fc06e8662d8ba7a2"
   }
  }
 },
 "nbformat": 4,
 "nbformat_minor": 2
}
