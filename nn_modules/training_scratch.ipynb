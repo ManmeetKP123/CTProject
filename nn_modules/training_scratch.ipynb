{
 "cells": [
  {
   "cell_type": "code",
   "execution_count": 1,
   "metadata": {},
   "outputs": [
    {
     "name": "stderr",
     "output_type": "stream",
     "text": [
      "/ubc/ece/home/ra/other/manmeetp/miniconda3/lib/python3.8/site-packages/tqdm/auto.py:22: TqdmWarning: IProgress not found. Please update jupyter and ipywidgets. See https://ipywidgets.readthedocs.io/en/stable/user_install.html\n",
      "  from .autonotebook import tqdm as notebook_tqdm\n"
     ]
    }
   ],
   "source": [
    "from distutils.command.config import config\n",
    "import torch \n",
    "from torch import nn \n",
    "import torch.nn.functional as F \n",
    "from torch.utils.data import Dataset, DataLoader \n",
    "from dataloaders import CTDataset\n",
    "from config_file import config_file\n",
    "from models.unet_from_scratch import UNet\n",
    "import time\n",
    "import tqdm"
   ]
  },
  {
   "cell_type": "code",
   "execution_count": 2,
   "metadata": {},
   "outputs": [
    {
     "name": "stdout",
     "output_type": "stream",
     "text": [
      "True\n",
      "1.12.0\n",
      "cuda:0\n"
     ]
    }
   ],
   "source": [
    "#making sure we're working using cude and not cpu\n",
    "print(torch.cuda.is_available())\n",
    "print(torch.__version__)\n",
    "device = torch.device(\"cuda:0\" if torch.cuda.is_available() else \"cpu\")\n",
    "print(device)"
   ]
  },
  {
   "cell_type": "code",
   "execution_count": 3,
   "metadata": {},
   "outputs": [],
   "source": [
    "#defining our loss function (combined loss as Arafat described in the email)\n",
    "def dice_loss(y_pred, y_true, smooth = 1):\n",
    "\n",
    "    #difference between flatten vs view??\n",
    "\n",
    "    y_pred = y_pred.view(-1)\n",
    "    y_true = y_true.view(-1)\n",
    "    smooth = 1\n",
    "    intersection = (y_true * y_pred).sum()\n",
    "    dice = (2 * intersection  + smooth)/(y_true.sum() + y_pred.sum() + smooth)\n",
    "\n",
    "    return 1 - dice()\n",
    "    \n",
    "def combo_loss(y_pred, y_true):\n",
    "    return nn.CrossEntropyLoss(y_pred, y_true) + dice_loss(y_pred, y_true)"
   ]
  },
  {
   "cell_type": "code",
   "execution_count": 4,
   "metadata": {},
   "outputs": [],
   "source": [
    "#listing the directories \n",
    "img_dir = \"/ubc/ece/home/ra/other/manmeetp/CTProject/training_set/128_image_arrays\"\n",
    "annotations = \"/ubc/ece/home/ra/other/manmeetp/CTProject/training_set/128_mask_arrays\"\n",
    "trainset = CTDataset(annotations_folder=annotations, img_dir=img_dir)\n",
    "train_loader = DataLoader(trainset, batch_size = config_file.batch_size, shuffle = True)\n",
    "\n",
    "#channels is just 1 because grayscale image and classes is 2 since its either affected or not \n",
    "model = UNet(input_channels=1, num_classes=2)\n",
    "model.to(device)\n",
    "loss = combo_loss"
   ]
  },
  {
   "cell_type": "code",
   "execution_count": 5,
   "metadata": {},
   "outputs": [],
   "source": [
    "optimizer = torch.optim.Adam(model.parameters(), config_file.learning_rate)\n",
    "lambda1 = lambda epoch: 0.65 ** epoch"
   ]
  },
  {
   "cell_type": "code",
   "execution_count": 6,
   "metadata": {},
   "outputs": [
    {
     "name": "stdout",
     "output_type": "stream",
     "text": [
      "[INFO] training the network...\n",
      "this is the og mask shape (128, 128, 128)\n",
      "this is the og volume shape (128, 128, 128)\n"
     ]
    },
    {
     "name": "stderr",
     "output_type": "stream",
     "text": [
      "/ubc/ece/home/ra/other/manmeetp/CTProject/nn_modules/dataloaders.py:62: RuntimeWarning: divide by zero encountered in true_divide\n",
      "  norm_mask_slice = (mask - np.min(mask_slice)) / (np.max(mask_slice) - np.min(mask_slice))\n",
      "/ubc/ece/home/ra/other/manmeetp/CTProject/nn_modules/dataloaders.py:62: RuntimeWarning: invalid value encountered in true_divide\n",
      "  norm_mask_slice = (mask - np.min(mask_slice)) / (np.max(mask_slice) - np.min(mask_slice))\n"
     ]
    },
    {
     "name": "stdout",
     "output_type": "stream",
     "text": [
      "success\n",
      "line 64 shape of the volume array  (128, 128, 128, 128)\n",
      "the shape at line 43 for the volume torch.Size([128, 128, 128]) and the mask torch.Size([128, 128, 128, 128])\n",
      "the shape at line 45 for the volume torch.Size([128, 128, 128]) and the mask torch.Size([128, 128, 128, 128])\n"
     ]
    },
    {
     "ename": "RuntimeError",
     "evalue": "shape '[1, 128, 128, 128]' is invalid for input of size 268435456",
     "output_type": "error",
     "traceback": [
      "\u001b[0;31m---------------------------------------------------------------------------\u001b[0m",
      "\u001b[0;31mRuntimeError\u001b[0m                              Traceback (most recent call last)",
      "\u001b[1;32m/ubc/ece/home/ra/other/manmeetp/CTProject/nn_modules/training_scratch.ipynb Cell 6\u001b[0m in \u001b[0;36m<cell line: 4>\u001b[0;34m()\u001b[0m\n\u001b[1;32m      <a href='vscode-notebook-cell://ssh-remote%2Brosalind.ece.ubc.ca/ubc/ece/home/ra/other/manmeetp/CTProject/nn_modules/training_scratch.ipynb#ch0000005vscode-remote?line=8'>9</a>\u001b[0m totalTestLoss \u001b[39m=\u001b[39m \u001b[39m0\u001b[39m\n\u001b[1;32m     <a href='vscode-notebook-cell://ssh-remote%2Brosalind.ece.ubc.ca/ubc/ece/home/ra/other/manmeetp/CTProject/nn_modules/training_scratch.ipynb#ch0000005vscode-remote?line=9'>10</a>\u001b[0m \u001b[39m# loop over the training set\u001b[39;00m\n\u001b[0;32m---> <a href='vscode-notebook-cell://ssh-remote%2Brosalind.ece.ubc.ca/ubc/ece/home/ra/other/manmeetp/CTProject/nn_modules/training_scratch.ipynb#ch0000005vscode-remote?line=10'>11</a>\u001b[0m \u001b[39mfor\u001b[39;00m (i, (x, y)) \u001b[39min\u001b[39;00m \u001b[39menumerate\u001b[39m(train_loader):\n\u001b[1;32m     <a href='vscode-notebook-cell://ssh-remote%2Brosalind.ece.ubc.ca/ubc/ece/home/ra/other/manmeetp/CTProject/nn_modules/training_scratch.ipynb#ch0000005vscode-remote?line=11'>12</a>\u001b[0m \t\u001b[39m# send the input to the device\u001b[39;00m\n\u001b[1;32m     <a href='vscode-notebook-cell://ssh-remote%2Brosalind.ece.ubc.ca/ubc/ece/home/ra/other/manmeetp/CTProject/nn_modules/training_scratch.ipynb#ch0000005vscode-remote?line=12'>13</a>\u001b[0m \t(x, y) \u001b[39m=\u001b[39m (x\u001b[39m.\u001b[39mto(device), y\u001b[39m.\u001b[39mto(device))\n\u001b[1;32m     <a href='vscode-notebook-cell://ssh-remote%2Brosalind.ece.ubc.ca/ubc/ece/home/ra/other/manmeetp/CTProject/nn_modules/training_scratch.ipynb#ch0000005vscode-remote?line=13'>14</a>\u001b[0m \t\u001b[39m# perform a forward pass and calculate the training loss\u001b[39;00m\n",
      "File \u001b[0;32m~/miniconda3/lib/python3.8/site-packages/torch/utils/data/dataloader.py:652\u001b[0m, in \u001b[0;36m_BaseDataLoaderIter.__next__\u001b[0;34m(self)\u001b[0m\n\u001b[1;32m    649\u001b[0m \u001b[39mif\u001b[39;00m \u001b[39mself\u001b[39m\u001b[39m.\u001b[39m_sampler_iter \u001b[39mis\u001b[39;00m \u001b[39mNone\u001b[39;00m:\n\u001b[1;32m    650\u001b[0m     \u001b[39m# TODO(https://github.com/pytorch/pytorch/issues/76750)\u001b[39;00m\n\u001b[1;32m    651\u001b[0m     \u001b[39mself\u001b[39m\u001b[39m.\u001b[39m_reset()  \u001b[39m# type: ignore[call-arg]\u001b[39;00m\n\u001b[0;32m--> 652\u001b[0m data \u001b[39m=\u001b[39m \u001b[39mself\u001b[39;49m\u001b[39m.\u001b[39;49m_next_data()\n\u001b[1;32m    653\u001b[0m \u001b[39mself\u001b[39m\u001b[39m.\u001b[39m_num_yielded \u001b[39m+\u001b[39m\u001b[39m=\u001b[39m \u001b[39m1\u001b[39m\n\u001b[1;32m    654\u001b[0m \u001b[39mif\u001b[39;00m \u001b[39mself\u001b[39m\u001b[39m.\u001b[39m_dataset_kind \u001b[39m==\u001b[39m _DatasetKind\u001b[39m.\u001b[39mIterable \u001b[39mand\u001b[39;00m \\\n\u001b[1;32m    655\u001b[0m         \u001b[39mself\u001b[39m\u001b[39m.\u001b[39m_IterableDataset_len_called \u001b[39mis\u001b[39;00m \u001b[39mnot\u001b[39;00m \u001b[39mNone\u001b[39;00m \u001b[39mand\u001b[39;00m \\\n\u001b[1;32m    656\u001b[0m         \u001b[39mself\u001b[39m\u001b[39m.\u001b[39m_num_yielded \u001b[39m>\u001b[39m \u001b[39mself\u001b[39m\u001b[39m.\u001b[39m_IterableDataset_len_called:\n",
      "File \u001b[0;32m~/miniconda3/lib/python3.8/site-packages/torch/utils/data/dataloader.py:692\u001b[0m, in \u001b[0;36m_SingleProcessDataLoaderIter._next_data\u001b[0;34m(self)\u001b[0m\n\u001b[1;32m    690\u001b[0m \u001b[39mdef\u001b[39;00m \u001b[39m_next_data\u001b[39m(\u001b[39mself\u001b[39m):\n\u001b[1;32m    691\u001b[0m     index \u001b[39m=\u001b[39m \u001b[39mself\u001b[39m\u001b[39m.\u001b[39m_next_index()  \u001b[39m# may raise StopIteration\u001b[39;00m\n\u001b[0;32m--> 692\u001b[0m     data \u001b[39m=\u001b[39m \u001b[39mself\u001b[39;49m\u001b[39m.\u001b[39;49m_dataset_fetcher\u001b[39m.\u001b[39;49mfetch(index)  \u001b[39m# may raise StopIteration\u001b[39;00m\n\u001b[1;32m    693\u001b[0m     \u001b[39mif\u001b[39;00m \u001b[39mself\u001b[39m\u001b[39m.\u001b[39m_pin_memory:\n\u001b[1;32m    694\u001b[0m         data \u001b[39m=\u001b[39m _utils\u001b[39m.\u001b[39mpin_memory\u001b[39m.\u001b[39mpin_memory(data, \u001b[39mself\u001b[39m\u001b[39m.\u001b[39m_pin_memory_device)\n",
      "File \u001b[0;32m~/miniconda3/lib/python3.8/site-packages/torch/utils/data/_utils/fetch.py:49\u001b[0m, in \u001b[0;36m_MapDatasetFetcher.fetch\u001b[0;34m(self, possibly_batched_index)\u001b[0m\n\u001b[1;32m     47\u001b[0m \u001b[39mdef\u001b[39;00m \u001b[39mfetch\u001b[39m(\u001b[39mself\u001b[39m, possibly_batched_index):\n\u001b[1;32m     48\u001b[0m     \u001b[39mif\u001b[39;00m \u001b[39mself\u001b[39m\u001b[39m.\u001b[39mauto_collation:\n\u001b[0;32m---> 49\u001b[0m         data \u001b[39m=\u001b[39m [\u001b[39mself\u001b[39m\u001b[39m.\u001b[39mdataset[idx] \u001b[39mfor\u001b[39;00m idx \u001b[39min\u001b[39;00m possibly_batched_index]\n\u001b[1;32m     50\u001b[0m     \u001b[39melse\u001b[39;00m:\n\u001b[1;32m     51\u001b[0m         data \u001b[39m=\u001b[39m \u001b[39mself\u001b[39m\u001b[39m.\u001b[39mdataset[possibly_batched_index]\n",
      "File \u001b[0;32m~/miniconda3/lib/python3.8/site-packages/torch/utils/data/_utils/fetch.py:49\u001b[0m, in \u001b[0;36m<listcomp>\u001b[0;34m(.0)\u001b[0m\n\u001b[1;32m     47\u001b[0m \u001b[39mdef\u001b[39;00m \u001b[39mfetch\u001b[39m(\u001b[39mself\u001b[39m, possibly_batched_index):\n\u001b[1;32m     48\u001b[0m     \u001b[39mif\u001b[39;00m \u001b[39mself\u001b[39m\u001b[39m.\u001b[39mauto_collation:\n\u001b[0;32m---> 49\u001b[0m         data \u001b[39m=\u001b[39m [\u001b[39mself\u001b[39;49m\u001b[39m.\u001b[39;49mdataset[idx] \u001b[39mfor\u001b[39;00m idx \u001b[39min\u001b[39;00m possibly_batched_index]\n\u001b[1;32m     50\u001b[0m     \u001b[39melse\u001b[39;00m:\n\u001b[1;32m     51\u001b[0m         data \u001b[39m=\u001b[39m \u001b[39mself\u001b[39m\u001b[39m.\u001b[39mdataset[possibly_batched_index]\n",
      "File \u001b[0;32m~/CTProject/nn_modules/dataloaders.py:47\u001b[0m, in \u001b[0;36mCTDataset.__getitem__\u001b[0;34m(self, idx)\u001b[0m\n\u001b[1;32m     45\u001b[0m \u001b[39mprint\u001b[39m(\u001b[39m\"\u001b[39m\u001b[39mthe shape at line 45 for the volume \u001b[39m\u001b[39m\"\u001b[39m \u001b[39m+\u001b[39m \u001b[39mstr\u001b[39m(volumeTensor\u001b[39m.\u001b[39msize()) \u001b[39m+\u001b[39m \u001b[39m\"\u001b[39m\u001b[39m and the mask \u001b[39m\u001b[39m\"\u001b[39m \u001b[39m+\u001b[39m \u001b[39mstr\u001b[39m(maskTensor\u001b[39m.\u001b[39msize()))\n\u001b[1;32m     46\u001b[0m volumeTensor \u001b[39m=\u001b[39m volumeTensor\u001b[39m.\u001b[39mreshape(\u001b[39m1\u001b[39m, volumeTensor\u001b[39m.\u001b[39msize(dim\u001b[39m=\u001b[39m\u001b[39m0\u001b[39m), volumeTensor\u001b[39m.\u001b[39msize(dim\u001b[39m=\u001b[39m\u001b[39m1\u001b[39m), volumeTensor\u001b[39m.\u001b[39msize(dim\u001b[39m=\u001b[39m\u001b[39m2\u001b[39m))\n\u001b[0;32m---> 47\u001b[0m maskTensor \u001b[39m=\u001b[39m maskTensor\u001b[39m.\u001b[39;49mreshape(\u001b[39m1\u001b[39;49m, maskTensor\u001b[39m.\u001b[39;49msize(dim\u001b[39m=\u001b[39;49m\u001b[39m0\u001b[39;49m), maskTensor\u001b[39m.\u001b[39;49msize(dim\u001b[39m=\u001b[39;49m\u001b[39m1\u001b[39;49m), maskTensor\u001b[39m.\u001b[39;49msize(dim\u001b[39m=\u001b[39;49m\u001b[39m2\u001b[39;49m))\n\u001b[1;32m     49\u001b[0m \u001b[39mreturn\u001b[39;00m volumeTensor, maskTensor\n",
      "\u001b[0;31mRuntimeError\u001b[0m: shape '[1, 128, 128, 128]' is invalid for input of size 268435456"
     ]
    }
   ],
   "source": [
    "#training loop \n",
    "print(\"[INFO] training the network...\")\n",
    "startTime = time.time()\n",
    "for e in range(config_file.epochs):\n",
    "\t# set the model in training mode\n",
    "\tmodel.train()\n",
    "\t# initialize the total training and validation loss\n",
    "\ttotalTrainLoss = 0\n",
    "\ttotalTestLoss = 0\n",
    "\t# loop over the training set\n",
    "\tfor (i, (x, y)) in enumerate(train_loader):\n",
    "\t\t# send the input to the device\n",
    "\t\t(x, y) = (x.to(device), y.to(device))\n",
    "\t\t# perform a forward pass and calculate the training loss\n",
    "\t\tpred = model(x)\n",
    "\t\tcriterion = loss(pred, y)\n",
    "\t\t# first, zero out any previously accumulated gradients, then\n",
    "\t\t# perform backpropagation, and then update model parameters\n",
    "\t\toptimizer.zero_grad()\n",
    "\t\tcriterion.backward()\n",
    "\t\toptimizer.step()\n",
    "\t\t# add the loss to the total training loss so far\n",
    "\t\tprint(\"epoch number \" + str(e) + \" current loss \" + str(criterion))\n",
    "\t\ttotalTrainLoss += criterion\n",
    "\t\n",
    "\tavgTrainLoss = totalTrainLoss / config_file.epochs\n",
    "\t\n",
    "\tprint(\"average Training loss: \" + str(avgTrainLoss))\n",
    "\t\n",
    "endTime = time.time()\n",
    "print(\"[INFO] total time taken to train the model: {:.2f}s\".format(\n",
    "\tendTime - startTime))"
   ]
  },
  {
   "cell_type": "code",
   "execution_count": null,
   "metadata": {},
   "outputs": [],
   "source": [
    "#for evaluation\n",
    "# switch off autograd\n",
    "\t# with torch.no_grad():\n",
    "\t# \t# set the model in evaluation mode\n",
    "\t# \tunet.eval()\n",
    "\t# \t# loop over the validation set\n",
    "\t# \tfor (x, y) in testLoader:\n",
    "\t# \t\t# send the input to the device\n",
    "\t# \t\t(x, y) = (x.to(config.DEVICE), y.to(config.DEVICE))\n",
    "\t# \t\t# make the predictions and calculate the validation loss\n",
    "\t# \t\tpred = unet(x)\n",
    "\t# \t\ttotalTestLoss += lossFunc(pred, y)\n",
    "\t# calculate the average training and validation loss"
   ]
  }
 ],
 "metadata": {
  "kernelspec": {
   "display_name": "Python 3.8.12 ('base')",
   "language": "python",
   "name": "python3"
  },
  "language_info": {
   "codemirror_mode": {
    "name": "ipython",
    "version": 3
   },
   "file_extension": ".py",
   "mimetype": "text/x-python",
   "name": "python",
   "nbconvert_exporter": "python",
   "pygments_lexer": "ipython3",
   "version": "3.8.12"
  },
  "orig_nbformat": 4,
  "vscode": {
   "interpreter": {
    "hash": "5a3b8f5430dcba285e05c791357a5662af4e340364058ab0fc06e8662d8ba7a2"
   }
  }
 },
 "nbformat": 4,
 "nbformat_minor": 2
}
