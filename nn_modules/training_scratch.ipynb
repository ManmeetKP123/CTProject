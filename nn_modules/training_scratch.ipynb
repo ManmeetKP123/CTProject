{
 "cells": [
  {
   "cell_type": "code",
   "execution_count": 1,
   "metadata": {},
   "outputs": [
    {
     "name": "stderr",
     "output_type": "stream",
     "text": [
      "/ubc/ece/home/ra/other/manmeetp/miniconda3/lib/python3.8/site-packages/tqdm/auto.py:22: TqdmWarning: IProgress not found. Please update jupyter and ipywidgets. See https://ipywidgets.readthedocs.io/en/stable/user_install.html\n",
      "  from .autonotebook import tqdm as notebook_tqdm\n"
     ]
    }
   ],
   "source": [
    "from distutils.command.config import config\n",
    "import torch \n",
    "from torch import nn \n",
    "import torch.nn.functional as F \n",
    "from torch.utils.data import Dataset, DataLoader \n",
    "from dataloaders import CTDataset\n",
    "from config_file import config_file\n",
    "from models.unet_from_scratch import UNet\n",
    "import time\n",
    "import tqdm"
   ]
  },
  {
   "cell_type": "code",
   "execution_count": 2,
   "metadata": {},
   "outputs": [
    {
     "name": "stdout",
     "output_type": "stream",
     "text": [
      "True\n",
      "1.12.0\n",
      "cuda:0\n"
     ]
    }
   ],
   "source": [
    "#making sure we're working using cude and not cpu\n",
    "print(torch.cuda.is_available())\n",
    "print(torch.__version__)\n",
    "device = torch.device(\"cuda:0\" if torch.cuda.is_available() else \"cpu\")\n",
    "print(device)"
   ]
  },
  {
   "cell_type": "code",
   "execution_count": 3,
   "metadata": {},
   "outputs": [],
   "source": [
    "#defining our loss function (combined loss as Arafat described in the email)\n",
    "def dice_loss(y_pred, y_true, smooth = 1):\n",
    "\n",
    "    #difference between flatten vs view??\n",
    "\n",
    "    y_pred = y_pred.view(-1)\n",
    "    y_true = y_true.view(-1)\n",
    "    print(\"the size of the prediction is \" + str(y_pred.size()))\n",
    "    print(\"the size of true is \" + str(y_true.size()))\n",
    "    smooth = 1\n",
    "    intersection = (y_true * y_pred).sum()\n",
    "    dice = (2 * intersection  + smooth)/(y_true.sum() + y_pred.sum() + smooth)\n",
    "\n",
    "    return 1 - dice()\n",
    "    \n",
    "def combo_loss(y_pred, y_true):\n",
    "    return nn.CrossEntropyLoss(y_pred, y_true) + dice_loss(y_pred, y_true)"
   ]
  },
  {
   "cell_type": "code",
   "execution_count": 4,
   "metadata": {},
   "outputs": [
    {
     "name": "stdout",
     "output_type": "stream",
     "text": [
      "<class 'int'>\n",
      "<class 'int'>\n",
      "initialization successful\n"
     ]
    }
   ],
   "source": [
    "#listing the directories \n",
    "img_dir = \"/ubc/ece/home/ra/other/manmeetp/CTProject/training_set/128_image_arrays\"\n",
    "annotations = \"/ubc/ece/home/ra/other/manmeetp/CTProject/training_set/128_mask_arrays\"\n",
    "trainset = CTDataset(annotations_folder=annotations, img_dir=img_dir)\n",
    "train_loader = DataLoader(trainset, batch_size = config_file.batch_size, shuffle = True)\n",
    "\n",
    "#channels is just 1 because grayscale image and classes is 2 since its either affected or not \n",
    "model = UNet(input_channels=1, num_classes=2)\n",
    "model.to(device)\n",
    "loss = dice_loss"
   ]
  },
  {
   "cell_type": "code",
   "execution_count": 5,
   "metadata": {},
   "outputs": [],
   "source": [
    "optimizer = torch.optim.Adam(model.parameters(), config_file.learning_rate)\n",
    "lambda1 = lambda epoch: 0.65 ** epoch"
   ]
  },
  {
   "cell_type": "code",
   "execution_count": 6,
   "metadata": {},
   "outputs": [],
   "source": [
    "#ok before I start pulling my hair debugging this, let's print the models summary\n",
    "# print(model)"
   ]
  },
  {
   "cell_type": "code",
   "execution_count": 7,
   "metadata": {},
   "outputs": [
    {
     "name": "stdout",
     "output_type": "stream",
     "text": [
      "[INFO] training the network...\n",
      "entered forward line 1\n",
      "first line of forward\n",
      "printing the type <class 'torch.Tensor'>\n"
     ]
    },
    {
     "name": "stderr",
     "output_type": "stream",
     "text": [
      "/ubc/ece/home/ra/other/manmeetp/CTProject/nn_modules/dataloaders.py:58: RuntimeWarning: invalid value encountered in true_divide\n",
      "  norm_mask_slice = (mask_slice - np.min(mask_slice)) / (np.max(mask_slice) - np.min(mask_slice))\n"
     ]
    },
    {
     "name": "stdout",
     "output_type": "stream",
     "text": [
      "second line of forward\n",
      "thrd line\n",
      "fourth line\n",
      "fifth line\n",
      "dimensions after the first convlutions torch.Size([2, 64, 128, 128, 128])\n",
      "dimension after the second convolution torch.Size([2, 128, 64, 64, 64])\n",
      "dimension after the third convolution torch.Size([2, 256, 32, 32, 32])\n",
      "dimension after the fourth convolution torch.Size([2, 512, 16, 16, 16])\n",
      "dimension after the fifth convolution torch.Size([2, 512, 8, 8, 8])\n"
     ]
    },
    {
     "ename": "RuntimeError",
     "evalue": "Sizes of tensors must match except in dimension 1. Expected size 6 but got size 5 for tensor number 1 in the list.",
     "output_type": "error",
     "traceback": [
      "\u001b[0;31m---------------------------------------------------------------------------\u001b[0m",
      "\u001b[0;31mRuntimeError\u001b[0m                              Traceback (most recent call last)",
      "\u001b[1;32m/ubc/ece/home/ra/other/manmeetp/CTProject/nn_modules/training_scratch.ipynb Cell 7\u001b[0m in \u001b[0;36m<cell line: 4>\u001b[0;34m()\u001b[0m\n\u001b[1;32m     <a href='vscode-notebook-cell://ssh-remote%2Brosalind.ece.ubc.ca/ubc/ece/home/ra/other/manmeetp/CTProject/nn_modules/training_scratch.ipynb#ch0000006vscode-remote?line=14'>15</a>\u001b[0m y \u001b[39m=\u001b[39m y\u001b[39m.\u001b[39mfloat()\n\u001b[1;32m     <a href='vscode-notebook-cell://ssh-remote%2Brosalind.ece.ubc.ca/ubc/ece/home/ra/other/manmeetp/CTProject/nn_modules/training_scratch.ipynb#ch0000006vscode-remote?line=15'>16</a>\u001b[0m \u001b[39m# perform a forward pass and calculate the training loss\u001b[39;00m\n\u001b[0;32m---> <a href='vscode-notebook-cell://ssh-remote%2Brosalind.ece.ubc.ca/ubc/ece/home/ra/other/manmeetp/CTProject/nn_modules/training_scratch.ipynb#ch0000006vscode-remote?line=16'>17</a>\u001b[0m pred \u001b[39m=\u001b[39m model(x)\n\u001b[1;32m     <a href='vscode-notebook-cell://ssh-remote%2Brosalind.ece.ubc.ca/ubc/ece/home/ra/other/manmeetp/CTProject/nn_modules/training_scratch.ipynb#ch0000006vscode-remote?line=17'>18</a>\u001b[0m criterion \u001b[39m=\u001b[39m loss(pred, y)\n\u001b[1;32m     <a href='vscode-notebook-cell://ssh-remote%2Brosalind.ece.ubc.ca/ubc/ece/home/ra/other/manmeetp/CTProject/nn_modules/training_scratch.ipynb#ch0000006vscode-remote?line=18'>19</a>\u001b[0m \u001b[39m# first, zero out any previously accumulated gradients, then\u001b[39;00m\n\u001b[1;32m     <a href='vscode-notebook-cell://ssh-remote%2Brosalind.ece.ubc.ca/ubc/ece/home/ra/other/manmeetp/CTProject/nn_modules/training_scratch.ipynb#ch0000006vscode-remote?line=19'>20</a>\u001b[0m \u001b[39m# perform backpropagation, and then update model parameters\u001b[39;00m\n",
      "File \u001b[0;32m~/miniconda3/lib/python3.8/site-packages/torch/nn/modules/module.py:1130\u001b[0m, in \u001b[0;36mModule._call_impl\u001b[0;34m(self, *input, **kwargs)\u001b[0m\n\u001b[1;32m   1126\u001b[0m \u001b[39m# If we don't have any hooks, we want to skip the rest of the logic in\u001b[39;00m\n\u001b[1;32m   1127\u001b[0m \u001b[39m# this function, and just call forward.\u001b[39;00m\n\u001b[1;32m   1128\u001b[0m \u001b[39mif\u001b[39;00m \u001b[39mnot\u001b[39;00m (\u001b[39mself\u001b[39m\u001b[39m.\u001b[39m_backward_hooks \u001b[39mor\u001b[39;00m \u001b[39mself\u001b[39m\u001b[39m.\u001b[39m_forward_hooks \u001b[39mor\u001b[39;00m \u001b[39mself\u001b[39m\u001b[39m.\u001b[39m_forward_pre_hooks \u001b[39mor\u001b[39;00m _global_backward_hooks\n\u001b[1;32m   1129\u001b[0m         \u001b[39mor\u001b[39;00m _global_forward_hooks \u001b[39mor\u001b[39;00m _global_forward_pre_hooks):\n\u001b[0;32m-> 1130\u001b[0m     \u001b[39mreturn\u001b[39;00m forward_call(\u001b[39m*\u001b[39;49m\u001b[39minput\u001b[39;49m, \u001b[39m*\u001b[39;49m\u001b[39m*\u001b[39;49mkwargs)\n\u001b[1;32m   1131\u001b[0m \u001b[39m# Do not call functions when jit is used\u001b[39;00m\n\u001b[1;32m   1132\u001b[0m full_backward_hooks, non_full_backward_hooks \u001b[39m=\u001b[39m [], []\n",
      "File \u001b[0;32m~/CTProject/nn_modules/models/unet_from_scratch.py:130\u001b[0m, in \u001b[0;36mUNet.forward\u001b[0;34m(self, x)\u001b[0m\n\u001b[1;32m    128\u001b[0m x_6 \u001b[39m=\u001b[39m \u001b[39mself\u001b[39m\u001b[39m.\u001b[39mbridge(x_5)\n\u001b[1;32m    129\u001b[0m crop_x_4 \u001b[39m=\u001b[39m crop_img(x_4, x_6)\n\u001b[0;32m--> 130\u001b[0m concat_x_4_6 \u001b[39m=\u001b[39m torch\u001b[39m.\u001b[39;49mcat((crop_x_4, x_6), \u001b[39m1\u001b[39;49m)\n\u001b[1;32m    131\u001b[0m \u001b[39mprint\u001b[39m(\u001b[39m\"\u001b[39m\u001b[39mdimension after the concatenation \u001b[39m\u001b[39m\"\u001b[39m \u001b[39m+\u001b[39m \u001b[39mstr\u001b[39m(concat_x_4_6\u001b[39m.\u001b[39msize()))\n\u001b[1;32m    133\u001b[0m x_7 \u001b[39m=\u001b[39m \u001b[39mself\u001b[39m\u001b[39m.\u001b[39mupBlock1(concat_x_4_6)\n",
      "\u001b[0;31mRuntimeError\u001b[0m: Sizes of tensors must match except in dimension 1. Expected size 6 but got size 5 for tensor number 1 in the list."
     ]
    }
   ],
   "source": [
    "#training loop \n",
    "print(\"[INFO] training the network...\")\n",
    "startTime = time.time()\n",
    "for e in range(config_file.epochs):\n",
    "\t# set the model in training mode\n",
    "\tmodel.train()\n",
    "\t# initialize the total training and validation loss\n",
    "\ttotalTrainLoss = 0\n",
    "\ttotalTestLoss = 0\n",
    "\t# loop over the training set\n",
    "\tfor (i, (x, y)) in enumerate(train_loader):\n",
    "\t\t# send the input to the device\n",
    "\t\t(x, y) = (x.to(device), y.to(device))\n",
    "\t\tx = x.float()\n",
    "\t\ty = y.float()\n",
    "\t\t# perform a forward pass and calculate the training loss\n",
    "\t\tpred = model(x)\n",
    "\t\tcriterion = loss(pred, y)\n",
    "\t\t# first, zero out any previously accumulated gradients, then\n",
    "\t\t# perform backpropagation, and then update model parameters\n",
    "\t\toptimizer.zero_grad()\n",
    "\t\tcriterion.backward()\n",
    "\t\toptimizer.step()\n",
    "\t\t# add the loss to the total training loss so far\n",
    "\t\tprint(\"epoch number \" + str(e) + \" current loss \" + str(criterion))\n",
    "\t\ttotalTrainLoss += criterion\n",
    "\t\n",
    "\tavgTrainLoss = totalTrainLoss / config_file.epochs\n",
    "\t\n",
    "\tprint(\"average Training loss: \" + str(avgTrainLoss))\n",
    "\t\n",
    "endTime = time.time()\n",
    "print(\"[INFO] total time taken to train the model: {:.2f}s\".format(\n",
    "\tendTime - startTime))"
   ]
  },
  {
   "cell_type": "code",
   "execution_count": null,
   "metadata": {},
   "outputs": [],
   "source": [
    "#for evaluation\n",
    "# switch off autograd\n",
    "\t# with torch.no_grad():\n",
    "\t# \t# set the model in evaluation mode\n",
    "\t# \tunet.eval()\n",
    "\t# \t# loop over the validation set\n",
    "\t# \tfor (x, y) in testLoader:\n",
    "\t# \t\t# send the input to the device\n",
    "\t# \t\t(x, y) = (x.to(config.DEVICE), y.to(config.DEVICE))\n",
    "\t# \t\t# make the predictions and calculate the validation loss\n",
    "\t# \t\tpred = unet(x)\n",
    "\t# \t\ttotalTestLoss += lossFunc(pred, y)\n",
    "\t# calculate the average training and validation loss"
   ]
  }
 ],
 "metadata": {
  "kernelspec": {
   "display_name": "Python 3.8.12 ('base')",
   "language": "python",
   "name": "python3"
  },
  "language_info": {
   "codemirror_mode": {
    "name": "ipython",
    "version": 3
   },
   "file_extension": ".py",
   "mimetype": "text/x-python",
   "name": "python",
   "nbconvert_exporter": "python",
   "pygments_lexer": "ipython3",
   "version": "3.8.12"
  },
  "orig_nbformat": 4,
  "vscode": {
   "interpreter": {
    "hash": "5a3b8f5430dcba285e05c791357a5662af4e340364058ab0fc06e8662d8ba7a2"
   }
  }
 },
 "nbformat": 4,
 "nbformat_minor": 2
}
