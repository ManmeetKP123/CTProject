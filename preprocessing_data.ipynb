{
 "cells": [
  {
   "cell_type": "code",
   "execution_count": 8,
   "metadata": {},
   "outputs": [
    {
     "name": "stdout",
     "output_type": "stream",
     "text": [
      "1.1.1\n"
     ]
    },
    {
     "name": "stderr",
     "output_type": "stream",
     "text": [
      "/ubc/ece/home/ra/other/manmeetp/miniconda3/lib/python3.8/site-packages/tqdm/auto.py:22: TqdmWarning: IProgress not found. Please update jupyter and ipywidgets. See https://ipywidgets.readthedocs.io/en/stable/user_install.html\n",
      "  from .autonotebook import tqdm as notebook_tqdm\n"
     ]
    }
   ],
   "source": [
    "import os \n",
    "from glob import glob \n",
    "import dicom2nifti\n",
    "import pandas as pd \n",
    "import matplotlib.pyplot as plt \n",
    "import sklearn\n",
    "print(sklearn.__version__)\n",
    "# from sklearn.mode_selection import train_test_split \n",
    "import numpy as np \n",
    "\n",
    "import torch \n",
    "import torchio as tio \n",
    "import torchvision \n",
    "import skimage \n",
    "from skimage import color \n",
    "from torch.utils.data import DataLoader \n"
   ]
  },
  {
   "cell_type": "code",
   "execution_count": 15,
   "metadata": {},
   "outputs": [
    {
     "name": "stdout",
     "output_type": "stream",
     "text": [
      "['ABD_LYMPH_007.nii.gz', 'ABD_LYMPH_069.nii.gz', 'ABD_LYMPH_033.nii.gz', 'ABD_LYMPH_019.nii.gz', 'MED_LYMPH_067.nii.gz', 'MED_LYMPH_002.nii.gz', 'MED_LYMPH_017.nii.gz', 'ABD_LYMPH_084.nii.gz', 'MED_LYMPH_026.nii.gz', 'MED_LYMPH_064.nii.gz', 'MED_LYMPH_073.nii.gz', 'MED_LYMPH_075.nii.gz', 'ABD_LYMPH_016.nii.gz', 'MED_LYMPH_069.nii.gz', 'MED_LYMPH_066.nii.gz', 'MED_LYMPH_055.nii.gz', 'MED_LYMPH_024.nii.gz', 'ABD_LYMPH_064.nii.gz', 'ABD_LYMPH_005.nii.gz', 'MED_LYMPH_085.nii.gz', 'ABD_LYMPH_028.nii.gz', 'ABD_LYMPH_021.nii.gz', 'MED_LYMPH_029.nii.gz', 'MED_LYMPH_081.nii.gz', 'ABD_LYMPH_078.nii.gz', 'MED_LYMPH_063.nii.gz', 'MED_LYMPH_030.nii.gz', 'ABD_LYMPH_036.nii.gz', 'MED_LYMPH_044.nii.gz', 'ABD_LYMPH_015.nii.gz']\n",
      "ABD_LYMPH_013\n",
      "ordered_data/CT_Lymph_Nodes/ABD_LYMPH_013\n"
     ]
    },
    {
     "name": "stderr",
     "output_type": "stream",
     "text": [
      "Slice increment not consistent through all slices\n",
      "---------------------------------------------------------\n",
      "[-177.     16.   -211.25] [ 0.    0.   -1.25]\n",
      "[-177.     16.   -208.75] [ 0.   0.  -2.5]\n",
      "Instance Number: 382\n",
      "---------------------------------------------------------\n"
     ]
    },
    {
     "name": "stdout",
     "output_type": "stream",
     "text": [
      "SLICE_INCREMENT_INCONSISTENT\n"
     ]
    },
    {
     "data": {
      "text/plain": [
       "['ABD_LYMPH_013']"
      ]
     },
     "execution_count": 15,
     "metadata": {},
     "output_type": "execute_result"
    }
   ],
   "source": [
    "#storing the DICOM files in the .nii.gz format for easier image processing\n",
    "files_error = list()\n",
    "\n",
    "dicom_input = \"ordered_data/CT_Lymph_Nodes\"\n",
    "nifti_output = \"3D_volumes_NIfTI_images\"\n",
    "\n",
    "folder = glob(dicom_input + '/*')\n",
    "files_not_done = []\n",
    "print(os.listdir(nifti_output))\n",
    "# print(folder)\n",
    "\n",
    "try:\n",
    "    for name, patient in zip(os.listdir(dicom_input), folder):\n",
    "        file_name = str(name + \".nii.gz\")\n",
    "        if (file_name not in os.listdir(nifti_output)):\n",
    "            print(name)\n",
    "            print(patient)\n",
    "            dicom2nifti.dicom_series_to_nifti(patient, os.path.join(nifti_output, name + \".nii.gz\"))\n",
    "        else: \n",
    "            files_not_done.append(name)\n",
    "            print(\"error\")\n",
    "except Exception as e:\n",
    "    print(e)\n",
    "    files_error.append(name)\n",
    "    pass \n",
    "\n",
    "(files_error)\n"
   ]
  },
  {
   "cell_type": "code",
   "execution_count": 10,
   "metadata": {},
   "outputs": [
    {
     "name": "stdout",
     "output_type": "stream",
     "text": [
      "ordered_data/CT_Lymph_Nodes/MED_LYMPH_063\n"
     ]
    },
    {
     "data": {
      "text/plain": [
       "<zip at 0x7fe106776e40>"
      ]
     },
     "execution_count": 10,
     "metadata": {},
     "output_type": "execute_result"
    }
   ],
   "source": [
    "#WHERE DID HALF OF THE FILES GO?\n",
    "    "
   ]
  },
  {
   "cell_type": "code",
   "execution_count": null,
   "metadata": {},
   "outputs": [],
   "source": [
    "#now we apply isotropic resampling to the images to get a voxel spacing of 1mm in each direction\n",
    "\n",
    "import nibabel as nib\n",
    "\n",
    "#THIS METHOD WILL OVERWRITE THE FILES IN DATA BUT CREATE A NEW FOLDER FOR THE MASKS \n",
    "#the actual data\n",
    "image_folder = \"3D_volumes_NIfTI_images\"\n",
    "dest_input_folder = \"resampled_input_data\"\n",
    "\n",
    "for image in os.listdir(image_folder):\n",
    "    affine_matrix = nib.load(os.path.join(image_folder, image)).affine\n",
    "\n",
    "    input = tio.ScalarImage(os.path.join(image_folder, image), to_mni=affine_matrix)\n",
    "    transform = tio.Resample(1, pre_affine_name='to_mni')\n",
    "    isotropic_image = transform(input)\n",
    "    print(np.shape(isotropic_image))\n",
    "\n",
    "    padding = tio.CropOrPad(target_shape=[512, 512, np.shape(isotropic_image)[3]])\n",
    "    padded_image = padding(isotropic_image)\n",
    "    print(np.shape(padded_image))\n",
    "\n",
    "    tio.Image.save(padded_image, path=os.path.join(dest_input_folder,  image))\n",
    "    print(\"ressssaaaampled\")\n"
   ]
  },
  {
   "cell_type": "code",
   "execution_count": null,
   "metadata": {},
   "outputs": [],
   "source": [
    "#the corresponding mask\n",
    "#the masks are all 512x512xdepth dimension so we can str8 up apply preprocessing to these \n",
    "import nibabel as nib\n",
    "mask_folder = \"MED_ABD_LYMPH_MASKS\" \n",
    "for folders in os.listdir(mask_folder):\n",
    "    mask_file = os.listdir(os.path.join(mask_folder, folders))[0]\n",
    "    mask_array = nib.load(os.path.join(os.path.join(mask_folder, folders), mask_file)).get_data()\n",
    "    print(np.shape(mask_array))"
   ]
  },
  {
   "cell_type": "code",
   "execution_count": 4,
   "metadata": {},
   "outputs": [
    {
     "name": "stderr",
     "output_type": "stream",
     "text": [
      "/tmp/ipykernel_25583/649193978.py:7: DeprecationWarning: get_data() is deprecated in favor of get_fdata(), which has a more predictable return type. To obtain get_data() behavior going forward, use numpy.asanyarray(img.dataobj).\n",
      "\n",
      "* deprecated from version: 3.0\n",
      "* Will raise <class 'nibabel.deprecator.ExpiredDeprecationError'> as of version: 5.0\n",
      "  test_image=nib.load(img_path).get_data()\n"
     ]
    },
    {
     "data": {
      "text/plain": [
       "[<matplotlib.lines.Line2D at 0x7f1681841ee0>]"
      ]
     },
     "execution_count": 4,
     "metadata": {},
     "output_type": "execute_result"
    },
    {
     "data": {
      "image/png": "[encoded data removed]",
      "text/plain": [
       "<Figure size 432x288 with 1 Axes>"
      ]
     },
     "metadata": {
      "needs_background": "light"
     },
     "output_type": "display_data"
    }
   ],
   "source": [
    "#making sure that the resampled files aren't corrupt \n",
    "import nibabel as nib\n",
    "import matplotlib.pyplot as plt\n",
    "import numpy as np \n",
    "\n",
    "img_path = \"resampled_input_data/ABD_LYMPH_028.nii.gz\"\n",
    "test_image=nib.load(img_path).get_data()\n",
    "# test_image *= 255\n",
    "# test_image = (test_image - np.min(test_image)) / (np.max(test_image) - np.min(test_image))\n",
    "test_sum = np.sum(test_image, axis=(0, 1))\n",
    "plt.plot(test_sum)"
   ]
  },
  {
   "cell_type": "code",
   "execution_count": 5,
   "metadata": {},
   "outputs": [
    {
     "data": {
      "text/plain": [
       "<matplotlib.image.AxesImage at 0x7f16818345b0>"
      ]
     },
     "execution_count": 5,
     "metadata": {},
     "output_type": "execute_result"
    },
    {
     "data": {
      "image/png": "[encoded data removed]",
      "text/plain": [
       "<Figure size 432x288 with 1 Axes>"
      ]
     },
     "metadata": {
      "needs_background": "light"
     },
     "output_type": "display_data"
    }
   ],
   "source": [
    "#this shows the resampled image which has isotropic spacing and padding on the edges\n",
    "plt.imshow(test_image[:, :, 350])"
   ]
  },
  {
   "cell_type": "code",
   "execution_count": null,
   "metadata": {},
   "outputs": [],
   "source": []
  }
 ],
 "metadata": {
  "kernelspec": {
   "display_name": "Python 3.8.12 ('base')",
   "language": "python",
   "name": "python3"
  },
  "language_info": {
   "codemirror_mode": {
    "name": "ipython",
    "version": 3
   },
   "file_extension": ".py",
   "mimetype": "text/x-python",
   "name": "python",
   "nbconvert_exporter": "python",
   "pygments_lexer": "ipython3",
   "version": "3.8.12"
  },
  "orig_nbformat": 4,
  "vscode": {
   "interpreter": {
    "hash": "5a3b8f5430dcba285e05c791357a5662af4e340364058ab0fc06e8662d8ba7a2"
   }
  }
 },
 "nbformat": 4,
 "nbformat_minor": 2
}
