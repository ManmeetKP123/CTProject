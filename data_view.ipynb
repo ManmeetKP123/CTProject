{
 "cells": [
  {
   "cell_type": "code",
   "execution_count": 2,
   "metadata": {},
   "outputs": [
    {
     "name": "stderr",
     "output_type": "stream",
     "text": [
      "/tmp/ipykernel_23514/3617237575.py:4: DeprecationWarning: get_data() is deprecated in favor of get_fdata(), which has a more predictable return type. To obtain get_data() behavior going forward, use numpy.asanyarray(img.dataobj).\n",
      "\n",
      "* deprecated from version: 3.0\n",
      "* Will raise <class 'nibabel.deprecator.ExpiredDeprecationError'> as of version: 5.0\n",
      "  test_image=nib.load(img_path).get_data()\n"
     ]
    },
    {
     "data": {
      "text/plain": [
       "[<matplotlib.lines.Line2D at 0x7f2fcbebda00>]"
      ]
     },
     "execution_count": 2,
     "metadata": {},
     "output_type": "execute_result"
    },
    {
     "data": {
      "image/png": "[encoded data removed]",
      "text/plain": [
       "<Figure size 432x288 with 1 Axes>"
      ]
     },
     "metadata": {
      "needs_background": "light"
     },
     "output_type": "display_data"
    }
   ],
   "source": [
    "\n",
    "import nibabel as nib\n",
    "img_path = \"data/abd_lymph_node1/ABD_LYMPH_001_mask.nii.gz\"\n",
    "\n",
    "test_image=nib.load(img_path).get_data()\n",
    "# test_image *= 255\n",
    "# test_image = (test_image - np.min(test_image)) / (np.max(test_image) - np.min(test_image))\n",
    "test_sum = np.sum(test_image, axis=(0, 1))\n",
    "plt.plot(test_sum)"
   ]
  },
  {
   "cell_type": "code",
   "execution_count": 3,
   "metadata": {},
   "outputs": [
    {
     "name": "stdout",
     "output_type": "stream",
     "text": [
      "369\n"
     ]
    },
    {
     "data": {
      "text/plain": [
       "<matplotlib.image.AxesImage at 0x7f2fcbe3b2e0>"
      ]
     },
     "execution_count": 3,
     "metadata": {},
     "output_type": "execute_result"
    },
    {
     "data": {
      "image/png": "[encoded data removed]",
      "text/plain": [
       "<Figure size 432x288 with 1 Axes>"
      ]
     },
     "metadata": {
      "needs_background": "light"
     },
     "output_type": "display_data"
    }
   ],
   "source": [
    "print(np.argmax(test_sum))\n",
    "plt.imshow(test_image[:, :, 369])"
   ]
  },
  {
   "cell_type": "code",
   "execution_count": 20,
   "metadata": {},
   "outputs": [
    {
     "name": "stdout",
     "output_type": "stream",
     "text": [
      "(512, 512, 661)\n",
      "(512, 1024, 661)\n"
     ]
    }
   ],
   "source": [
    "# dicom_array_normalized = 255*(dicom_array - np.min(dicom_array)) / (np.max(dicom_array) - np.min(dicom_array))\n",
    "# print(np.shape(dicom_array_normalized)[2])\n",
    "# label_mask = 255*(test_image - np.min(test_image)) / (np.max(test_image) - np.min(test_image))\n",
    "# dicom_array_normalized = dicom_array_normalized[:, :, 1:]\n",
    "# print(np.shape(dicom_array_normalized))\n",
    "# combined = np.concatenate((dicom_array_normalized, label_mask), axis=1)\n",
    "# print(np.shape(combined))"
   ]
  },
  {
   "cell_type": "code",
   "execution_count": 14,
   "metadata": {},
   "outputs": [
    {
     "name": "stdout",
     "output_type": "stream",
     "text": [
      "(512, 1024)\n"
     ]
    }
   ],
   "source": [
    "# from PIL import Image\n",
    "# imgs = []\n",
    "\n",
    "# for i in range(np.shape(dicom_array_normalized)[2]):\n",
    "#     imgs.append(Image.fromarray(combined[:, :, i]))\n",
    "# # imgs = [Image.fromarray(img) for img in imgs[]]\n",
    "# print(np.shape(imgs[0]))\n",
    "# # duration is the number of milliseconds between frames; this is 40 frames per second\n",
    "# imgs[0].save(\"array.gif\", save_all=True, append_images=imgs[1:], duration=50, loop=0)"
   ]
  },
  {
   "cell_type": "code",
   "execution_count": 35,
   "metadata": {},
   "outputs": [
    {
     "name": "stdout",
     "output_type": "stream",
     "text": [
      "data_trial/ABD_LYMPH_004\n",
      "data_trial/ABD_LYMPH_004/09-14-2014-ABDLYMPH004-abdominallymphnodes-23531\n",
      "data_trial/ABD_LYMPH_004/09-14-2014-ABDLYMPH004-abdominallymphnodes-23531/abdominallymphnodes-55124\n",
      "736\n"
     ]
    }
   ],
   "source": [
    "import os \n",
    "\n",
    "og = \"data_trial/ABD_LYMPH\"\n",
    "og = og + str(\"_004\")\n",
    "print(og)\n",
    "step_one = os.listdir(og)\n",
    "print(os.path.join(og, step_one[0]))\n",
    "step_two = os.listdir(os.path.join(og, step_one[0]))\n",
    "print(os.path.join(og, step_one[0], step_two[0]))\n",
    "print(len(os.listdir(os.path.join(og, step_one[0], step_two[0]))))"
   ]
  },
  {
   "cell_type": "code",
   "execution_count": 14,
   "metadata": {},
   "outputs": [
    {
     "name": "stdout",
     "output_type": "stream",
     "text": [
      "82\n",
      "ordered_data/CT_Lymph_Nodes/ABD_LYMPH_007\n",
      "ordered_data/CT_Lymph_Nodes/ABD_LYMPH_007/09-14-2014-ABDLYMPH007-abdominallymphnodes-95788\n",
      "ordered_data/CT_Lymph_Nodes/ABD_LYMPH_007/09-14-2014-ABDLYMPH007-abdominallymphnodes-95788/abdominallymphnodes-60969\n",
      "747\n"
     ]
    }
   ],
   "source": [
    "#FUNCTION TO MAKE THE FILES EASIER TO ACCESS :\")\n",
    "\n",
    "source = \"ordered_data/CT_Lymph_Nodes\"\n",
    "list_parents = os.listdir(source)\n",
    "print(len(list_parents))\n",
    "\n",
    "parent = os.path.join(source, str(list_parents[0]))\n",
    "print(parent)\n",
    "sub_parent = os.listdir(parent)\n",
    "sub_parent = os.path.join(parent, str(sub_parent[0]))\n",
    "print(sub_parent)\n",
    "sub_sub_parent = os.listdir(sub_parent)\n",
    "print(os.path.join(sub_parent, str(sub_sub_parent[0])))\n",
    "print(len(os.listdir(os.path.join(sub_parent, str(sub_sub_parent[0])))))\n",
    "\n"
   ]
  },
  {
   "cell_type": "code",
   "execution_count": null,
   "metadata": {},
   "outputs": [],
   "source": [
    "#preliminary moving the files code (only run once)\n",
    "#RAN IT ONCE SO DON'T NEED TO DO IT AGAIN BUT HERE FOR REFERENCE\n",
    "\n",
    "\n",
    "import shutil\n",
    "source = \"ordered_data/CT_Lymph_Nodes/remaining\"\n",
    "\n",
    "parent_folder_names = os.listdir(source)\n",
    "print(len(os.listdir(source)))\n",
    "destination_1 = \"ordered_data/CT_Lymph_Nodes\"\n",
    "\n",
    "i = 0\n",
    "for source_folders in parent_folder_names:\n",
    "    source_folder = os.path.join(source, str(source_folders))\n",
    "    destination = os.path.join(destination_1, source_folders)\n",
    "    \n",
    "    for child1_folder in os.listdir(source_folder):\n",
    "        sub_child_folder = os.path.join(source_folder, child1_folder)\n",
    "        destination2 = os.path.join(destination, str(child1_folder))\n",
    "        if not os.path.exists(destination2):\n",
    "                os.mkdir(destination2)\n",
    "\n",
    "        for child2_folder in os.listdir(sub_child_folder):\n",
    "            dest = os.path.join(destination2, child2_folder)\n",
    "            last_step_source = os.path.join(sub_child_folder, child2_folder)\n",
    "            print(dest)\n",
    "            if not os.path.exists(dest):\n",
    "                os.mkdir(dest)\n",
    "            source_files = os.listdir(last_step_source)\n",
    "            print(len(source_files))\n",
    "            for files in source_files:\n",
    "                final_source = os.path.join(last_step_source, str(files))\n",
    "                final_dest = os.path.join(dest, str(files))\n",
    "                shutil.move(final_source, final_dest)\n",
    "        \n"
   ]
  },
  {
   "cell_type": "code",
   "execution_count": null,
   "metadata": {},
   "outputs": [],
   "source": [
    "#ANOTHER BUG_FIX THAT I ALREADY RAN SO DON'T DO IT AGAIN\n",
    "\n",
    "source = \"ordered_data/CT_Lymph_Nodes/MED_LYMPH_063/09-14-2014-MEDLYMPH063-mediastinallymphnodes-96805/mediastinallymphnodes-24849/mediastinallymphnodes-24849\"\n",
    "dest = \"ordered_data/CT_Lymph_Nodes/MED_LYMPH_063/09-14-2014-MEDLYMPH063-mediastinallymphnodes-96805/mediastinallymphnodes-24849\"\n",
    "\n",
    "import shutil\n",
    "for files in os.listdir(source):\n",
    "    source_file = os.path.join(source, str(files))\n",
    "    dest_file = os.path.join(dest, str(files))\n",
    "\n",
    "    shutil.move(source_file, dest_file)\n",
    "    print(\"done\")"
   ]
  },
  {
   "cell_type": "code",
   "execution_count": null,
   "metadata": {},
   "outputs": [],
   "source": [
    "#ANOTHER RUN IT ONLY ONCE CODE BLOCK TO CREATE THE 3D ARRAY FROM 2D IMAGE SLICES OF DICOM\n",
    "\n",
    "import pydicom as dicom\n",
    "import numpy as np\n",
    "\n",
    "source = \"ordered_data/CT_Lymph_Nodes\"\n",
    "dest = \"raw_data_arrays\"\n",
    "parent_folder_names = os.listdir(source)\n",
    "\n",
    "#removing a defective folder with a defective dicom file\n",
    "parent_folder_names.remove(\"MED_LYMPH_003\")\n",
    "parent_folder_names.remove(\"MED_LYMPH_063.npy\")\n",
    "print(len(parent_folder_names))\n",
    "for source_folders in parent_folder_names:\n",
    "    source_folder = os.path.join(source, str(source_folders))\n",
    "    \n",
    "    dest_array_path = os.path.join(dest, str(source_folders))\n",
    "\n",
    "    #this step is to account for the fact that I already saved a bunch of the files in 3D arrays so\n",
    "    #only want to run the followin code block if there doesn't already exist an array in that folder\n",
    "    if len(os.listdir(dest_array_path)) == 0:\n",
    "        dest_file_path = os.path.join(dest_array_path, str(np.char.lower(source_folders)))\n",
    "        print(dest_array_path)\n",
    "        if not os.path.exists(dest_array_path):\n",
    "            os.mkdir(dest_array_path)\n",
    "\n",
    "            \n",
    "        for child1_folder in os.listdir(source_folder):\n",
    "            grand_child_folder = os.path.join(source_folder, str(child1_folder))\n",
    "            \n",
    "            for great_grand_child_folder in os.listdir(grand_child_folder):\n",
    "                last_step_source = os.path.join(grand_child_folder, str(great_grand_child_folder))\n",
    "                # last_element = int(dicom_file.split(\"/\")[-1].split(\"-\")[-1].split(\".\")[0])\n",
    "\n",
    "                empty_array = np.zeros((512, 512, len(os.listdir(last_step_source))))\n",
    "                for dicom_files in os.listdir(last_step_source):\n",
    "                    if dicom_files.endswith(\".dcm\"):\n",
    "                        ds = dicom.dcmread(os.path.join(last_step_source, dicom_files))\n",
    "                        last_element_dcm = dicom_files.split(\"-\")\n",
    "                        last_element_num = int(last_element_dcm[1].split(\".\")[0])\n",
    "                        # print(last_element_num)\n",
    "                        empty_array[:, :, last_element_num] = ds.pixel_array\n",
    "                        # print(source_folder)\n",
    "                print(\"saving the array\")\n",
    "                np.save(dest_file_path, empty_array)"
   ]
  },
  {
   "cell_type": "code",
   "execution_count": 2,
   "metadata": {},
   "outputs": [
    {
     "name": "stdout",
     "output_type": "stream",
     "text": [
      "0.6335\n",
      "1.0\n"
     ]
    },
    {
     "data": {
      "text/plain": [
       "<matplotlib.image.AxesImage at 0x7f94b695e460>"
      ]
     },
     "execution_count": 2,
     "metadata": {},
     "output_type": "execute_result"
    },
    {
     "data": {
      "image/png": "[encoded data removed]",
      "text/plain": [
       "<Figure size 432x288 with 1 Axes>"
      ]
     },
     "metadata": {
      "needs_background": "light"
     },
     "output_type": "display_data"
    }
   ],
   "source": [
    "#function to convert the .nii files also into 3D arrays (segmentation maps) to be passed as labels\n",
    "import numpy as np\n",
    "\n",
    "dicom_folder = \"raw_data_arrays/ABD_LYMPH_002/abd_lymph_002.npy\"\n",
    "#since each folder only contains one file we can just 0 index to get that specific file\n",
    "\n",
    "dicom_array = np.load(dicom_folder)\n",
    "dicom_array_normalized = (dicom_array - np.min(dicom_array)) / (np.max(dicom_array) - np.min(dicom_array))\n",
    "#normalizing the dicom image to see what happens\n",
    "\n",
    "print(np.max(dicom_array_normalized[:, :, 10]))\n",
    "print(np.max(dicom_array_normalized))\n",
    "plt.imshow(dicom_array_normalized[:, :, 10])\n"
   ]
  },
  {
   "cell_type": "code",
   "execution_count": null,
   "metadata": {},
   "outputs": [],
   "source": [
    "import nibabel as nib\n",
    "import matplotlib.pyplot as plt\n",
    "import scipy.ndimage as ndimage\n",
    "\n",
    "nii_folder = \"MED_ABD_LYMPH_MASKS\"\n",
    "dest_mask_folder = \"mask_folder(downsampled)\"\n",
    "\n",
    "for folders in os.listdir(nii_folder):\n",
    "    nii_image_folder = os.path.join(nii_folder, str(folders))\n",
    "    print(nii_image_folder)\n",
    "    nii_image_file_path = os.path.join(nii_image_folder, str(os.listdir(nii_image_folder)[0]))\n",
    "    nii_image_array = nib.load(nii_image_file_path).get_data()\n",
    "\n",
    "    #downsampling to 128 x 128 x 128 despite the depth\n",
    "    zoom_size = 128\n",
    "    x_zoom = zoom_size / nii_image_array.shape[0]\n",
    "    y_zoom = zoom_size / nii_image_array.shape[1]\n",
    "    z_zoom = zoom_size / nii_image_array.shape[2]\n",
    "    img = ndimage.zoom(nii_image_array, zoom=(x_zoom, y_zoom, z_zoom))\n",
    "\n",
    "    dest_array_path = os.path.join(dest_mask_folder, str(folders))\n",
    "    if not os.path.exists(dest_array_path + \".npy\"):\n",
    "        np.save(dest_array_path, img)\n",
    "        "
   ]
  },
  {
   "cell_type": "code",
   "execution_count": 4,
   "metadata": {},
   "outputs": [],
   "source": [
    "import scipy.ndimage as ndimage\n",
    "import numpy as np\n",
    "import pydicom as dicom\n",
    "\n",
    "dest_path = \"data(downsampled)\"\n",
    "source_parent_folder = \"raw_data_arrays\"\n",
    "\n",
    "for dicom_folders in os.listdir(source_parent_folder):\n",
    "    dicom_folders_path = os.path.join(source_parent_folder, dicom_folders)\n",
    "    dicom_array = np.load(os.path.join(dicom_folders_path, os.listdir(dicom_folders_path)[0]))\n",
    "    brother_file_is_here = os.path.join(dest_path, str(dicom_folders))\n",
    "\n",
    "    if not os.path.exists(brother_file_is_here + \".npy\"):\n",
    "        print(\"here\")\n",
    "        img = dicom_array\n",
    "        print(np.shape(dicom_array))\n",
    "        zoom_size = 128\n",
    "        x_zoom = zoom_size / img.shape[0]\n",
    "        y_zoom = zoom_size / img.shape[1]\n",
    "        z_zoom = zoom_size / img.shape[2]\n",
    "        img = ndimage.zoom(img, zoom=(x_zoom, y_zoom, z_zoom))    \n",
    "        print(brother_file_is_here + \".npy\")\n",
    "        np.save(os.path.join(dest_path, str(dicom_folders)), img)\n",
    "    \n",
    "# print(np.shape(img))\n",
    "# plt.imshow(img[:, :, 21])"
   ]
  },
  {
   "cell_type": "code",
   "execution_count": null,
   "metadata": {},
   "outputs": [],
   "source": []
  }
 ],
 "metadata": {
  "interpreter": {
   "hash": "5a3b8f5430dcba285e05c791357a5662af4e340364058ab0fc06e8662d8ba7a2"
  },
  "kernelspec": {
   "display_name": "Python 3.8.12 ('base')",
   "language": "python",
   "name": "python3"
  },
  "language_info": {
   "codemirror_mode": {
    "name": "ipython",
    "version": 3
   },
   "file_extension": ".py",
   "mimetype": "text/x-python",
   "name": "python",
   "nbconvert_exporter": "python",
   "pygments_lexer": "ipython3",
   "version": "3.8.12"
  },
  "orig_nbformat": 4
 },
 "nbformat": 4,
 "nbformat_minor": 2
}
