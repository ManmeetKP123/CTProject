Dataset.file_meta -------------------------------
(0002, 0000) File Meta Information Group Length  UL: 174
(0002, 0001) File Meta Information Version       OB: b'\x00\x01'
(0002, 0002) Media Storage SOP Class UID         UI: CT Image Storage
(0002, 0003) Media Storage SOP Instance UID      UI: 61.7.167091134293529805229513542733185305383
(0002, 0010) Transfer Syntax UID                 UI: Implicit VR Little Endian
(0002, 0012) Implementation Class UID            UI: 1.2.40.0.13.1.1.1
(0002, 0013) Implementation Version Name         SH: 'dcm4che-1.4.34'
-------------------------------------------------
(0008, 0008) Image Type                          CS: ['DERIVED', 'SECONDARY']
(0008, 0016) SOP Class UID                       UI: CT Image Storage
(0008, 0018) SOP Instance UID                    UI: 61.7.167091134293529805229513542733185305383
(0008, 0020) Study Date                          DA: '20140914'
(0008, 0030) Study Time                          TM: ''
(0008, 0050) Accession Number                    SH: ''
(0008, 0060) Modality                            CS: 'CT'
(0008, 0064) Conversion Type                     CS: 'DV'
(0008, 0090) Referring Physician's Name          PN: ''
(0008, 1030) Study Description                   LO: 'abdominal_lymph_nodes'
(0008, 103e) Series Description                  LO: 'abdominal_lymph_nodes'
(0010, 0010) Patient's Name                      PN: 'ABD_LYMPH_002'
(0010, 0020) Patient ID                          LO: 'ABD_LYMPH_002'
(0010, 0030) Patient's Birth Date                DA: ''
(0010, 0040) Patient's Sex                       CS: 'M'
(0010, 1010) Patient's Age                       AS: '030Y'
(0012, 0062) Patient Identity Removed            CS: 'YES'
(0013, 0010) Private Creator                     LO: 'CTP'
(0013, 1010) Private tag data                    UN: b'CT Lymph Nodes'
(0013, 1013) Private tag data                    UN: b'93781504'
(0018, 0015) Body Part Examined                  CS: 'ABDOMEN'
(0020, 000d) Study Instance UID                  UI: 61.7.324182321890070711702712678977716040168
(0020, 000e) Series Instance UID                 UI: 61.7.195607731455189297340213752950162268655
(0020, 0010) Study ID                            SH: 'ABD_LYMPH_002'
(0020, 0011) Series Number                       IS: None
(0020, 0013) Instance Number                     IS: '1'
(0020, 0032) Image Position (Patient)            DS: [-160, -4, -8.336000e+02]
(0020, 0037) Image Orientation (Patient)         DS: [1, 0, 0, 0, 1, 0]
(0020, 0052) Frame of Reference UID              UI: 61.7.234472822715781000917476007172385834079
(0028, 0002) Samples per Pixel                   US: 1
(0028, 0004) Photometric Interpretation          CS: 'MONOCHROME2'
(0028, 0010) Rows                                US: 512
(0028, 0011) Columns                             US: 512
(0028, 0030) Pixel Spacing                       DS: [0.68359375, 0.68359375]
(0028, 0100) Bits Allocated                      US: 16
(0028, 0101) Bits Stored                         US: 16
(0028, 0102) High Bit                            US: 15
(0028, 0103) Pixel Representation                US: 1
(0028, 1052) Rescale Intercept                   DS: '0.0'
(0028, 1053) Rescale Slope                       DS: '1.0'
(7fe0, 0010) Pixel Data                          OW: Array of 524288 elements
Dataset.file_meta -------------------------------
(0002, 0000) File Meta Information Group Length  UL: 174
(0002, 0001) File Meta Information Version       OB: b'\x00\x01'
(0002, 0002) Media Storage SOP Class UID         UI: CT Image Storage
(0002, 0003) Media Storage SOP Instance UID      UI: 61.7.43821988487050385117774633919958568028
(0002, 0010) Transfer Syntax UID                 UI: Implicit VR Little Endian
(0002, 0012) Implementation Class UID            UI: 1.2.40.0.13.1.1.1
(0002, 0013) Implementation Version Name         SH: 'dcm4che-1.4.34'
-------------------------------------------------
(0008, 0008) Image Type                          CS: ['DERIVED', 'SECONDARY']
(0008, 0016) SOP Class UID                       UI: CT Image Storage
(0008, 0018) SOP Instance UID                    UI: 61.7.43821988487050385117774633919958568028
(0008, 0020) Study Date                          DA: '20140914'
(0008, 0030) Study Time                          TM: ''
(0008, 0050) Accession Number                    SH: ''
(0008, 0060) Modality                            CS: 'CT'
(0008, 0064) Conversion Type                     CS: 'DV'
(0008, 0090) Referring Physician's Name          PN: ''
(0008, 1030) Study Description                   LO: 'abdominal_lymph_nodes'
(0008, 103e) Series Description                  LO: 'abdominal_lymph_nodes'
(0010, 0010) Patient's Name                      PN: 'ABD_LYMPH_022'
(0010, 0020) Patient ID                          LO: 'ABD_LYMPH_022'
(0010, 0030) Patient's Birth Date                DA: ''
(0010, 0040) Patient's Sex                       CS: 'F'
(0010, 1010) Patient's Age                       AS: '021Y'
(0012, 0062) Patient Identity Removed            CS: 'YES'
(0013, 0010) Private Creator                     LO: 'CTP'
(0013, 1010) Private tag data                    UN: b'CT Lymph Nodes'
(0013, 1013) Private tag data                    UN: b'93781504'
(0018, 0015) Body Part Examined                  CS: 'ABDOMEN'
(0020, 000d) Study Instance UID                  UI: 61.7.280219481786464538989746238170602100870
(0020, 000e) Series Instance UID                 UI: 61.7.184031674123220490435893372292352170898
(0020, 0010) Study ID                            SH: 'ABD_LYMPH_022'
(0020, 0011) Series Number                       IS: None
(0020, 0013) Instance Number                     IS: '1'
(0020, 0032) Image Position (Patient)            DS: [-249.51171875, -3.926817e+02, 509]
(0020, 0037) Image Orientation (Patient)         DS: [1, 0, 0, 0, 1, 0]
(0020, 0052) Frame of Reference UID              UI: 61.7.23053226847966159520767901329307383325
(0028, 0002) Samples per Pixel                   US: 1
(0028, 0004) Photometric Interpretation          CS: 'MONOCHROME2'
(0028, 0010) Rows                                US: 512
(0028, 0011) Columns                             US: 512
(0028, 0030) Pixel Spacing                       DS: [0.9765625, 0.9765625]
(0028, 0100) Bits Allocated                      US: 16
(0028, 0101) Bits Stored                         US: 16
(0028, 0102) High Bit                            US: 15
(0028, 0103) Pixel Representation                US: 1
(0028, 1052) Rescale Intercept                   DS: '0.0'
(0028, 1053) Rescale Slope                       DS: '1.0'
(7fe0, 0010) Pixel Data                          OW: Array of 524288 elements
